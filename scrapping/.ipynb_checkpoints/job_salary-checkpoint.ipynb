{
 "cells": [
  {
   "cell_type": "code",
   "execution_count": 125,
   "id": "714fd3b9",
   "metadata": {},
   "outputs": [],
   "source": [
    "# IMPORT DES DONNEES\n",
    "import pandas as pd \n",
    "import numpy as np\n",
    "import os\n",
    "import time\n",
    "import random\n",
    "\n",
    "# Import Selenium\n",
    "from selenium import webdriver \n",
    "from selenium.webdriver.chrome.options import Options\n",
    "from webdriver_manager.chrome import ChromeDriverManager\n",
    "from selenium.webdriver.common.by import By \n",
    "from selenium.webdriver.support.ui import WebDriverWait \n",
    "from selenium.webdriver.support import expected_conditions as EC\n",
    "from selenium.webdriver.chrome.options import Options\n",
    "from selenium.common.exceptions import NoSuchElementException, TimeoutException, ElementClickInterceptedException, StaleElementReferenceException\n",
    "from selenium.webdriver.common.action_chains import ActionChains"
   ]
  },
  {
   "cell_type": "code",
   "execution_count": 84,
   "id": "e2ad0799-b288-4830-9a4d-e48609f849e1",
   "metadata": {},
   "outputs": [],
   "source": [
    "# set up the driver\n",
    "options = Options()\n",
    "options.add_argument(\"--headless\")\n",
    "options.add_argument(\"--no-sandbox\")\n",
    "options.add_argument(\"--disable-dev-shm-usage\")\n",
    "options.binary_location = \"/usr/bin/google-chrome\"  # specify the path to your chrome binary location\n",
    "\n",
    "# Get the driver path\n",
    "driver_path = ChromeDriverManager().install()\n",
    "\n",
    "# Set ChromeDriver path\n",
    "os.environ[\"PATH\"] += os.pathsep + os.path.dirname(driver_path)\n",
    "\n",
    "url = \"https://www.payscale.com/research/US/Job=Software_Engineer/Salary\"\n",
    "url_base = \"https://www.payscale.com/research/US/Job/Information-Technology/A\"\n",
    "driver = webdriver.Chrome(options=options)\n",
    "driver.get(url)"
   ]
  },
  {
   "cell_type": "code",
   "execution_count": 85,
   "id": "90b64abd-9a70-43b1-80f6-8681f486ca5a",
   "metadata": {},
   "outputs": [],
   "source": [
    "# Splitting the URL at the '=' symbol and taking the second part\n",
    "# Then split again at the '/' symbol to isolate the job title and replace underscores with spaces\n",
    "job_title = url.split('=')[1].split('/')[0].replace('_', ' ')"
   ]
  },
  {
   "cell_type": "code",
   "execution_count": 86,
   "id": "94d78054-58c8-4082-81a6-5d0213d894aa",
   "metadata": {},
   "outputs": [
    {
     "data": {
      "text/plain": [
       "'Software Engineer'"
      ]
     },
     "execution_count": 86,
     "metadata": {},
     "output_type": "execute_result"
    }
   ],
   "source": [
    "job_title"
   ]
  },
  {
   "cell_type": "code",
   "execution_count": null,
   "id": "77076e9c-77cb-46dc-8c50-2c93fc510ca7",
   "metadata": {},
   "outputs": [],
   "source": []
  },
  {
   "cell_type": "code",
   "execution_count": 89,
   "id": "f2008335-6709-4ae5-90a3-43ed7353523a",
   "metadata": {},
   "outputs": [],
   "source": [
    "if salary_by_exp.endswith(\"Read less\"):\n",
    "    salary_by_exp = salary_by_exp[:-9].strip()  # 9 is the length of \"Read less\", and we strip to remove any potential whitespace"
   ]
  },
  {
   "cell_type": "code",
   "execution_count": 90,
   "id": "a98b1bce-fe80-432e-b4e7-41ed57e283bf",
   "metadata": {},
   "outputs": [
    {
     "data": {
      "text/plain": [
       "'An entry-level Software Engineer with less than 1 year experience can expect to earn an average total compensation (includes tips, bonus, and overtime pay) of $80,131 based on 6,227 salaries. An early career Software Engineer with 1-4 years of experience earns an average total compensation of $89,324 based on 35,844 salaries. A mid-career Software Engineer with 5-9 years of experience earns an average total compensation of $101,761 based on 12,834 salaries. An experienced Software Engineer with 10-19 years of experience earns an average total compensation of $113,840 based on 4,181 salaries. In their late career (20 years and higher), employees earn an average total compensation of $120,621.'"
      ]
     },
     "execution_count": 90,
     "metadata": {},
     "output_type": "execute_result"
    }
   ],
   "source": [
    "salary_by_exp"
   ]
  },
  {
   "cell_type": "code",
   "execution_count": null,
   "id": "143ed85a-edf4-45e7-baaa-bac98ae6dac4",
   "metadata": {},
   "outputs": [],
   "source": []
  },
  {
   "cell_type": "code",
   "execution_count": 96,
   "id": "0e7f87fe-023d-4ee9-b8dc-e9fdea2f10d8",
   "metadata": {},
   "outputs": [],
   "source": [
    "# print(driver.title)\n",
    "# print(driver.current_url)\n",
    "# driver.save_screenshot('screenshot.png')"
   ]
  },
  {
   "cell_type": "code",
   "execution_count": 109,
   "id": "185173ef-5cd8-471b-bc9d-cd65cb176b30",
   "metadata": {},
   "outputs": [],
   "source": [
    "if job_desc.endswith(\"Read less\"):\n",
    "    job_desc = job_desc[:-9].strip()  # 9 is the length of \"Read less\", and we strip to remove any potential whitespace"
   ]
  },
  {
   "cell_type": "code",
   "execution_count": 110,
   "id": "7dbc44e2-8584-4eaf-a64a-e7411944536c",
   "metadata": {},
   "outputs": [
    {
     "data": {
      "text/plain": [
       "'In the world of software design and development, a software engineer plays a key role. The engineer is typically the person who helps to develop the ways that software functions created by a software design team will work. The software engineer will work with designers to help consolidate disparate program functions into a unified whole. The engineer also works with programmers and coders to help map out various programming tasks and smaller functions, which are then combined into larger, functioning programs or new features for existing software. The engineer will typically work in both design and development stages of the software creation. During the design phase, dedicated designers or design teams will work with the engineer to help work out the basic things the program or update will be expected to perform. The engineer will typically help to plot out the various aspects of the automated tasks that will be necessary, usually using design documentation and flowcharts to help illustrate the process. To work as a software engineer, a person must normally have a bachelor’s degree in computer engineering, computer science, or a related field. Many companies will prefer candidates for this job who can show practical experience in programming and coding. Most software engineers work in an office or computer lab environment during regular work hours of the business week.'"
      ]
     },
     "execution_count": 110,
     "metadata": {},
     "output_type": "execute_result"
    }
   ],
   "source": [
    "job_desc"
   ]
  },
  {
   "cell_type": "code",
   "execution_count": 175,
   "id": "244c1359-36dd-4cec-ac96-de10fcb2debc",
   "metadata": {},
   "outputs": [],
   "source": [
    "def scrape_payscale_jobs(base_url, start_letter='E', end_letter='W'):\n",
    "    options = webdriver.ChromeOptions()\n",
    "    options.add_argument(\"--headless\")\n",
    "    options.add_argument(\"--no-sandbox\")\n",
    "    options.add_argument(\"--disable-dev-shm-usage\")\n",
    "    options.binary_location = \"/usr/bin/google-chrome\"\n",
    "    options.add_argument(\"user-agent=Mozilla/5.0 (Windows NT 10.0; Win64; x64) AppleWebKit/537.36 (KHTML, like Gecko) Chrome/58.0.3029.110 Safari/537.3\")\n",
    "    driver = webdriver.Chrome(options=options)\n",
    "    all_data = []\n",
    "\n",
    "    def delay(shortest=5, longest=15):\n",
    "        time.sleep(random.uniform(shortest, longest))\n",
    "\n",
    "    def extract_info(xpath_index):\n",
    "        try:\n",
    "            read_more_button = WebDriverWait(driver, 10).until(\n",
    "                EC.element_to_be_clickable((By.XPATH, f'(//span[@class=\"expandable__more\"])[{xpath_index}]'))\n",
    "            )\n",
    "            driver.execute_script(\"arguments[0].click();\", read_more_button)\n",
    "            time.sleep(10)\n",
    "            parent_container = driver.find_element(By.XPATH, '/html/body/div[1]/div/div[3]/div/div[1]/div/div')\n",
    "            all_paragraphs = parent_container.find_elements(By.TAG_NAME, \"p\")\n",
    "            paragraphs = [para.text for para in all_paragraphs if para.text.strip() != \"\"]\n",
    "            return \" \".join(paragraphs)\n",
    "        except (AttributeError, TimeoutException):\n",
    "            try:\n",
    "                parent_container = driver.find_element(By.XPATH, '/html/body/div[1]/div/div[3]/div/div[1]/div/div[1]')\n",
    "                all_paragraphs = parent_container.find_elements(By.TAG_NAME, \"p\")\n",
    "                paragraphs = [para.text for para in all_paragraphs if para.text.strip() != \"\"]\n",
    "                return \" \".join(paragraphs)\n",
    "            except Exception as e:\n",
    "                print(f\"Error when fetching information: {e}\")\n",
    "                return np.nan\n",
    "        \n",
    "    for letter in range(ord(start_letter), ord(end_letter)+1):\n",
    "        print(f\"Page {chr(letter)} en cours d'extraction\")\n",
    "        current_url = base_url + chr(letter)\n",
    "        \n",
    "        try:\n",
    "            driver.get(current_url)\n",
    "            delay()\n",
    "            job_links = driver.find_elements(By.CSS_SELECTOR, \".subcats__links__item\")\n",
    "            job_urls = [job_link.get_attribute(\"href\") for job_link in job_links]\n",
    "            \n",
    "            for job_url in job_urls:\n",
    "\n",
    "                try:\n",
    "                    driver.get(job_url)\n",
    "                    delay(7, 12)\n",
    "    \n",
    "                    job_title = job_url.split('=')[1].split('/')[0].replace('_', ' ')\n",
    "                    print(job_title)\n",
    "    \n",
    "                    # Remove the overlay if it exists\n",
    "                    driver.execute_script(\"\"\"\n",
    "                    if (document.querySelector('.onetrust-pc-dark-filter')) {\n",
    "                        document.querySelector('.onetrust-pc-dark-filter').style.display = 'none';\n",
    "                    }\n",
    "                    \"\"\")\n",
    "    \n",
    "                    # salary_by_exp = extract_info(1)\n",
    "                    job_desc = extract_info(2)\n",
    "    \n",
    "                    all_data.append({\n",
    "                        \"title\": job_title,\n",
    "                        # \"salary_by_exp\": salary_by_exp,\n",
    "                        \"description\": job_desc\n",
    "                    })\n",
    "    \n",
    "                    driver.back()\n",
    "                    delay(7, 12)\n",
    "\n",
    "                except NoSuchElementException:\n",
    "                    print(f\"Element not found for job: {job_title}. Moving to the next job.\")\n",
    "                    continue\n",
    "                except Exception as e:\n",
    "                    print(f\"Unexpected error occurred for job: {job_title}. Error: {e}\")\n",
    "                    continue\n",
    "\n",
    "        except Exception as e:\n",
    "            print(f\"Unexpected error occurred: {e}\")\n",
    "        \n",
    "        finally:\n",
    "            driver.quit()\n",
    "        \n",
    "    return all_data"
   ]
  },
  {
   "cell_type": "code",
   "execution_count": 176,
   "id": "716e99cf-5ba6-4c9f-ab3d-75061aadceb4",
   "metadata": {
    "scrolled": true
   },
   "outputs": [
    {
     "name": "stdout",
     "output_type": "stream",
     "text": [
      "Page E en cours d'extraction\n",
      "ERP Analyst\n",
      "ERP Business Analyst\n",
      "Error when fetching information: Message: no such element: Unable to locate element: {\"method\":\"xpath\",\"selector\":\"/html/body/div[1]/div/div[3]/div/div[1]/div/div[1]\"}\n",
      "  (Session info: headless chrome=115.0.5790.170); For documentation on this error, please visit: https://www.selenium.dev/documentation/webdriver/troubleshooting/errors#no-such-element-exception\n",
      "Stacktrace:\n",
      "#0 0x55a5b7d04613 <unknown>\n",
      "#1 0x55a5b7a30537 <unknown>\n",
      "#2 0x55a5b7a6ef53 <unknown>\n",
      "#3 0x55a5b7a6f041 <unknown>\n",
      "#4 0x55a5b7aaa2a4 <unknown>\n",
      "#5 0x55a5b7a8fa5d <unknown>\n",
      "#6 0x55a5b7aa7d09 <unknown>\n",
      "#7 0x55a5b7a8f803 <unknown>\n",
      "#8 0x55a5b7a6368b <unknown>\n",
      "#9 0x55a5b7a6442e <unknown>\n",
      "#10 0x55a5b7cc5c28 <unknown>\n",
      "#11 0x55a5b7cc9af7 <unknown>\n",
      "#12 0x55a5b7cd401c <unknown>\n",
      "#13 0x55a5b7cca723 <unknown>\n",
      "#14 0x55a5b7c99457 <unknown>\n",
      "#15 0x55a5b7cee628 <unknown>\n",
      "#16 0x55a5b7cee7b7 <unknown>\n",
      "#17 0x55a5b7cfd483 <unknown>\n",
      "#18 0x7f732c299b43 <unknown>\n",
      "\n",
      "Electronic Data Interchange (EDI) Coordinator\n",
      "Electronic Data Interchange (EDI) Manager\n",
      "Electronic Data Interchange (EDI) Specialist\n",
      "Electronic Discovery Technician\n",
      "Error when fetching information: Message: no such element: Unable to locate element: {\"method\":\"xpath\",\"selector\":\"/html/body/div[1]/div/div[3]/div/div[1]/div/div[1]\"}\n",
      "  (Session info: headless chrome=115.0.5790.170); For documentation on this error, please visit: https://www.selenium.dev/documentation/webdriver/troubleshooting/errors#no-such-element-exception\n",
      "Stacktrace:\n",
      "#0 0x55a5b7d04613 <unknown>\n",
      "#1 0x55a5b7a30537 <unknown>\n",
      "#2 0x55a5b7a6ef53 <unknown>\n",
      "#3 0x55a5b7a6f041 <unknown>\n",
      "#4 0x55a5b7aaa2a4 <unknown>\n",
      "#5 0x55a5b7a8fa5d <unknown>\n",
      "#6 0x55a5b7aa7d09 <unknown>\n",
      "#7 0x55a5b7a8f803 <unknown>\n",
      "#8 0x55a5b7a6368b <unknown>\n",
      "#9 0x55a5b7a6442e <unknown>\n",
      "#10 0x55a5b7cc5c28 <unknown>\n",
      "#11 0x55a5b7cc9af7 <unknown>\n",
      "#12 0x55a5b7cd401c <unknown>\n",
      "#13 0x55a5b7cca723 <unknown>\n",
      "#14 0x55a5b7c99457 <unknown>\n",
      "#15 0x55a5b7cee628 <unknown>\n",
      "#16 0x55a5b7cee7b7 <unknown>\n",
      "#17 0x55a5b7cfd483 <unknown>\n",
      "#18 0x7f732c299b43 <unknown>\n",
      "\n",
      "Embedded Software Developer\n",
      "Embedded Software Development Engineer\n",
      "Embedded Software Engineer\n",
      "Embedded Systems Engineer\n",
      "Engineering Manager%2C Computer Software\n",
      "Error when fetching information: Message: no such element: Unable to locate element: {\"method\":\"xpath\",\"selector\":\"/html/body/div[1]/div/div[3]/div/div[1]/div/div[1]\"}\n",
      "  (Session info: headless chrome=115.0.5790.170); For documentation on this error, please visit: https://www.selenium.dev/documentation/webdriver/troubleshooting/errors#no-such-element-exception\n",
      "Stacktrace:\n",
      "#0 0x55a5b7d04613 <unknown>\n",
      "#1 0x55a5b7a30537 <unknown>\n",
      "#2 0x55a5b7a6ef53 <unknown>\n",
      "#3 0x55a5b7a6f041 <unknown>\n",
      "#4 0x55a5b7aaa2a4 <unknown>\n",
      "#5 0x55a5b7a8fa5d <unknown>\n",
      "#6 0x55a5b7aa7d09 <unknown>\n",
      "#7 0x55a5b7a8f803 <unknown>\n",
      "#8 0x55a5b7a6368b <unknown>\n",
      "#9 0x55a5b7a6442e <unknown>\n",
      "#10 0x55a5b7cc5c28 <unknown>\n",
      "#11 0x55a5b7cc9af7 <unknown>\n",
      "#12 0x55a5b7cd401c <unknown>\n",
      "#13 0x55a5b7cca723 <unknown>\n",
      "#14 0x55a5b7c99457 <unknown>\n",
      "#15 0x55a5b7cee628 <unknown>\n",
      "#16 0x55a5b7cee7b7 <unknown>\n",
      "#17 0x55a5b7cfd483 <unknown>\n",
      "#18 0x7f732c299b43 <unknown>\n",
      "\n",
      "Enterprise Architect%2C IT\n",
      "Enterprise Messaging Systems Administrator\n",
      "Enterprise Resource Planning (ERP) Developer\n",
      "Ethical Hacker\n",
      "Executive - Network Management %26 IT Security\n",
      "eCommerce Analyst\n",
      "Error when fetching information: Message: no such element: Unable to locate element: {\"method\":\"xpath\",\"selector\":\"/html/body/div[1]/div/div[3]/div/div[1]/div/div[1]\"}\n",
      "  (Session info: headless chrome=115.0.5790.170); For documentation on this error, please visit: https://www.selenium.dev/documentation/webdriver/troubleshooting/errors#no-such-element-exception\n",
      "Stacktrace:\n",
      "#0 0x55a5b7d04613 <unknown>\n",
      "#1 0x55a5b7a30537 <unknown>\n",
      "#2 0x55a5b7a6ef53 <unknown>\n",
      "#3 0x55a5b7a6f041 <unknown>\n",
      "#4 0x55a5b7aaa2a4 <unknown>\n",
      "#5 0x55a5b7a8fa5d <unknown>\n",
      "#6 0x55a5b7aa7d09 <unknown>\n",
      "#7 0x55a5b7a8f803 <unknown>\n",
      "#8 0x55a5b7a6368b <unknown>\n",
      "#9 0x55a5b7a6442e <unknown>\n",
      "#10 0x55a5b7cc5c28 <unknown>\n",
      "#11 0x55a5b7cc9af7 <unknown>\n",
      "#12 0x55a5b7cd401c <unknown>\n",
      "#13 0x55a5b7cca723 <unknown>\n",
      "#14 0x55a5b7c99457 <unknown>\n",
      "#15 0x55a5b7cee628 <unknown>\n",
      "#16 0x55a5b7cee7b7 <unknown>\n",
      "#17 0x55a5b7cfd483 <unknown>\n",
      "#18 0x7f732c299b43 <unknown>\n",
      "\n",
      "eCommerce Manager\n",
      "Error when fetching information: Message: no such element: Unable to locate element: {\"method\":\"xpath\",\"selector\":\"/html/body/div[1]/div/div[3]/div/div[1]/div/div[1]\"}\n",
      "  (Session info: headless chrome=115.0.5790.170); For documentation on this error, please visit: https://www.selenium.dev/documentation/webdriver/troubleshooting/errors#no-such-element-exception\n",
      "Stacktrace:\n",
      "#0 0x55a5b7d04613 <unknown>\n",
      "#1 0x55a5b7a30537 <unknown>\n",
      "#2 0x55a5b7a6ef53 <unknown>\n",
      "#3 0x55a5b7a6f041 <unknown>\n",
      "#4 0x55a5b7aaa2a4 <unknown>\n",
      "#5 0x55a5b7a8fa5d <unknown>\n",
      "#6 0x55a5b7aa7d09 <unknown>\n",
      "#7 0x55a5b7a8f803 <unknown>\n",
      "#8 0x55a5b7a6368b <unknown>\n",
      "#9 0x55a5b7a6442e <unknown>\n",
      "#10 0x55a5b7cc5c28 <unknown>\n",
      "#11 0x55a5b7cc9af7 <unknown>\n",
      "#12 0x55a5b7cd401c <unknown>\n",
      "#13 0x55a5b7cca723 <unknown>\n",
      "#14 0x55a5b7c99457 <unknown>\n",
      "#15 0x55a5b7cee628 <unknown>\n",
      "#16 0x55a5b7cee7b7 <unknown>\n",
      "#17 0x55a5b7cfd483 <unknown>\n",
      "#18 0x7f732c299b43 <unknown>\n",
      "\n",
      "Page F en cours d'extraction\n",
      "Unexpected error occurred: HTTPConnectionPool(host='localhost', port=33041): Max retries exceeded with url: /session/dfc4eac8bd139ccd383a8d4006c41c9b/url (Caused by NewConnectionError('<urllib3.connection.HTTPConnection object at 0x7f52dc656460>: Failed to establish a new connection: [Errno 111] Connection refused'))\n",
      "Page G en cours d'extraction\n",
      "Unexpected error occurred: HTTPConnectionPool(host='localhost', port=33041): Max retries exceeded with url: /session/dfc4eac8bd139ccd383a8d4006c41c9b/url (Caused by NewConnectionError('<urllib3.connection.HTTPConnection object at 0x7f52dc64c100>: Failed to establish a new connection: [Errno 111] Connection refused'))\n",
      "Page H en cours d'extraction\n",
      "Unexpected error occurred: HTTPConnectionPool(host='localhost', port=33041): Max retries exceeded with url: /session/dfc4eac8bd139ccd383a8d4006c41c9b/url (Caused by NewConnectionError('<urllib3.connection.HTTPConnection object at 0x7f52dc656b20>: Failed to establish a new connection: [Errno 111] Connection refused'))\n",
      "Page I en cours d'extraction\n",
      "Unexpected error occurred: HTTPConnectionPool(host='localhost', port=33041): Max retries exceeded with url: /session/dfc4eac8bd139ccd383a8d4006c41c9b/url (Caused by NewConnectionError('<urllib3.connection.HTTPConnection object at 0x7f52dc64ceb0>: Failed to establish a new connection: [Errno 111] Connection refused'))\n",
      "Page J en cours d'extraction\n",
      "Unexpected error occurred: HTTPConnectionPool(host='localhost', port=33041): Max retries exceeded with url: /session/dfc4eac8bd139ccd383a8d4006c41c9b/url (Caused by NewConnectionError('<urllib3.connection.HTTPConnection object at 0x7f52dc5ef760>: Failed to establish a new connection: [Errno 111] Connection refused'))\n",
      "Page K en cours d'extraction\n",
      "Unexpected error occurred: HTTPConnectionPool(host='localhost', port=33041): Max retries exceeded with url: /session/dfc4eac8bd139ccd383a8d4006c41c9b/url (Caused by NewConnectionError('<urllib3.connection.HTTPConnection object at 0x7f52dc656970>: Failed to establish a new connection: [Errno 111] Connection refused'))\n",
      "Page L en cours d'extraction\n",
      "Unexpected error occurred: HTTPConnectionPool(host='localhost', port=33041): Max retries exceeded with url: /session/dfc4eac8bd139ccd383a8d4006c41c9b/url (Caused by NewConnectionError('<urllib3.connection.HTTPConnection object at 0x7f52dc65d6a0>: Failed to establish a new connection: [Errno 111] Connection refused'))\n",
      "Page M en cours d'extraction\n",
      "Unexpected error occurred: HTTPConnectionPool(host='localhost', port=33041): Max retries exceeded with url: /session/dfc4eac8bd139ccd383a8d4006c41c9b/url (Caused by NewConnectionError('<urllib3.connection.HTTPConnection object at 0x7f52dc656a60>: Failed to establish a new connection: [Errno 111] Connection refused'))\n",
      "Page N en cours d'extraction\n",
      "Unexpected error occurred: HTTPConnectionPool(host='localhost', port=33041): Max retries exceeded with url: /session/dfc4eac8bd139ccd383a8d4006c41c9b/url (Caused by NewConnectionError('<urllib3.connection.HTTPConnection object at 0x7f52dc65aa30>: Failed to establish a new connection: [Errno 111] Connection refused'))\n",
      "Page O en cours d'extraction\n",
      "Unexpected error occurred: HTTPConnectionPool(host='localhost', port=33041): Max retries exceeded with url: /session/dfc4eac8bd139ccd383a8d4006c41c9b/url (Caused by NewConnectionError('<urllib3.connection.HTTPConnection object at 0x7f52dc656b80>: Failed to establish a new connection: [Errno 111] Connection refused'))\n",
      "Page P en cours d'extraction\n",
      "Unexpected error occurred: HTTPConnectionPool(host='localhost', port=33041): Max retries exceeded with url: /session/dfc4eac8bd139ccd383a8d4006c41c9b/url (Caused by NewConnectionError('<urllib3.connection.HTTPConnection object at 0x7f52dd5b8f10>: Failed to establish a new connection: [Errno 111] Connection refused'))\n",
      "Page Q en cours d'extraction\n",
      "Unexpected error occurred: HTTPConnectionPool(host='localhost', port=33041): Max retries exceeded with url: /session/dfc4eac8bd139ccd383a8d4006c41c9b/url (Caused by NewConnectionError('<urllib3.connection.HTTPConnection object at 0x7f52dc656bb0>: Failed to establish a new connection: [Errno 111] Connection refused'))\n",
      "Page R en cours d'extraction\n",
      "Unexpected error occurred: HTTPConnectionPool(host='localhost', port=33041): Max retries exceeded with url: /session/dfc4eac8bd139ccd383a8d4006c41c9b/url (Caused by NewConnectionError('<urllib3.connection.HTTPConnection object at 0x7f52dc5ef970>: Failed to establish a new connection: [Errno 111] Connection refused'))\n",
      "Page S en cours d'extraction\n",
      "Unexpected error occurred: HTTPConnectionPool(host='localhost', port=33041): Max retries exceeded with url: /session/dfc4eac8bd139ccd383a8d4006c41c9b/url (Caused by NewConnectionError('<urllib3.connection.HTTPConnection object at 0x7f52dc5eff10>: Failed to establish a new connection: [Errno 111] Connection refused'))\n",
      "Page T en cours d'extraction\n",
      "Unexpected error occurred: HTTPConnectionPool(host='localhost', port=33041): Max retries exceeded with url: /session/dfc4eac8bd139ccd383a8d4006c41c9b/url (Caused by NewConnectionError('<urllib3.connection.HTTPConnection object at 0x7f52dc656130>: Failed to establish a new connection: [Errno 111] Connection refused'))\n",
      "Page U en cours d'extraction\n",
      "Unexpected error occurred: HTTPConnectionPool(host='localhost', port=33041): Max retries exceeded with url: /session/dfc4eac8bd139ccd383a8d4006c41c9b/url (Caused by NewConnectionError('<urllib3.connection.HTTPConnection object at 0x7f52dc5f6d60>: Failed to establish a new connection: [Errno 111] Connection refused'))\n",
      "Page V en cours d'extraction\n",
      "Unexpected error occurred: HTTPConnectionPool(host='localhost', port=33041): Max retries exceeded with url: /session/dfc4eac8bd139ccd383a8d4006c41c9b/url (Caused by NewConnectionError('<urllib3.connection.HTTPConnection object at 0x7f52dc6568e0>: Failed to establish a new connection: [Errno 111] Connection refused'))\n",
      "Page W en cours d'extraction\n",
      "Unexpected error occurred: HTTPConnectionPool(host='localhost', port=33041): Max retries exceeded with url: /session/dfc4eac8bd139ccd383a8d4006c41c9b/url (Caused by NewConnectionError('<urllib3.connection.HTTPConnection object at 0x7f52dc5f6a30>: Failed to establish a new connection: [Errno 111] Connection refused'))\n"
     ]
    }
   ],
   "source": [
    "data = scrape_payscale_jobs(base_url)"
   ]
  },
  {
   "cell_type": "code",
   "execution_count": 177,
   "id": "03665400-7e8a-4de3-a8db-9ff168618653",
   "metadata": {
    "scrolled": true
   },
   "outputs": [],
   "source": [
    "# data"
   ]
  },
  {
   "cell_type": "code",
   "execution_count": 178,
   "id": "3200112d-c4fc-4705-86bf-3bec5fc8cc2d",
   "metadata": {},
   "outputs": [
    {
     "data": {
      "text/html": [
       "<div>\n",
       "<style scoped>\n",
       "    .dataframe tbody tr th:only-of-type {\n",
       "        vertical-align: middle;\n",
       "    }\n",
       "\n",
       "    .dataframe tbody tr th {\n",
       "        vertical-align: top;\n",
       "    }\n",
       "\n",
       "    .dataframe thead th {\n",
       "        text-align: right;\n",
       "    }\n",
       "</style>\n",
       "<table border=\"1\" class=\"dataframe\">\n",
       "  <thead>\n",
       "    <tr style=\"text-align: right;\">\n",
       "      <th></th>\n",
       "      <th>job</th>\n",
       "      <th>description</th>\n",
       "    </tr>\n",
       "  </thead>\n",
       "  <tbody>\n",
       "    <tr>\n",
       "      <th>0</th>\n",
       "      <td>ERP Analyst</td>\n",
       "      <td>ERP analysts are responsible for solving infor...</td>\n",
       "    </tr>\n",
       "    <tr>\n",
       "      <th>1</th>\n",
       "      <td>ERP Business Analyst</td>\n",
       "      <td>NaN</td>\n",
       "    </tr>\n",
       "    <tr>\n",
       "      <th>2</th>\n",
       "      <td>Electronic Data Interchange (EDI) Coordinator</td>\n",
       "      <td>Electronic data interchange (EDI) coordinators...</td>\n",
       "    </tr>\n",
       "    <tr>\n",
       "      <th>3</th>\n",
       "      <td>Electronic Data Interchange (EDI) Manager</td>\n",
       "      <td>An electronic data interchange (EDI) manager o...</td>\n",
       "    </tr>\n",
       "    <tr>\n",
       "      <th>4</th>\n",
       "      <td>Electronic Data Interchange (EDI) Specialist</td>\n",
       "      <td>The electronic data interchange (EDI) speciali...</td>\n",
       "    </tr>\n",
       "  </tbody>\n",
       "</table>\n",
       "</div>"
      ],
      "text/plain": [
       "                                             job  \\\n",
       "0                                    ERP Analyst   \n",
       "1                           ERP Business Analyst   \n",
       "2  Electronic Data Interchange (EDI) Coordinator   \n",
       "3      Electronic Data Interchange (EDI) Manager   \n",
       "4   Electronic Data Interchange (EDI) Specialist   \n",
       "\n",
       "                                         description  \n",
       "0  ERP analysts are responsible for solving infor...  \n",
       "1                                                NaN  \n",
       "2  Electronic data interchange (EDI) coordinators...  \n",
       "3  An electronic data interchange (EDI) manager o...  \n",
       "4  The electronic data interchange (EDI) speciali...  "
      ]
     },
     "metadata": {},
     "output_type": "display_data"
    },
    {
     "name": "stdout",
     "output_type": "stream",
     "text": [
      "(18, 2)\n"
     ]
    }
   ],
   "source": [
    "# Convert to DataFrame\n",
    "df = pd.DataFrame(data)\n",
    "\n",
    "# Rename columns if needed\n",
    "df.columns = ['job', 'description']\n",
    "display(df.head())\n",
    "print(df.shape)"
   ]
  },
  {
   "cell_type": "code",
   "execution_count": 179,
   "id": "ca231e2b-9f2e-4e3e-aa57-9d2fe623d786",
   "metadata": {},
   "outputs": [],
   "source": [
    "def concat_data(df):\n",
    "    # importer le df qui contient toutes les données déjà récoltées\n",
    "    df_history = pd.read_csv(\"../data/silver/job_description.csv\")\n",
    "    \n",
    "    # concaténer les données qui viennent d'être récoltées à df_history\n",
    "    new_df = pd.concat([df_history, df], axis=0)\n",
    "    return new_df"
   ]
  },
  {
   "cell_type": "code",
   "execution_count": 180,
   "id": "36da3002-862f-4282-bce4-a165884bd125",
   "metadata": {},
   "outputs": [
    {
     "data": {
      "text/plain": [
       "(219, 2)"
      ]
     },
     "execution_count": 180,
     "metadata": {},
     "output_type": "execute_result"
    }
   ],
   "source": [
    "new_df = concat_data(df)\n",
    "new_df.shape"
   ]
  },
  {
   "cell_type": "code",
   "execution_count": 181,
   "id": "128d6405-eafd-40cb-9c7a-380ed51167d6",
   "metadata": {},
   "outputs": [],
   "source": [
    "def export_silver_df(df):\n",
    "    csv_file_path = f\"../data/silver/job_description.csv\"\n",
    "    df.to_csv(csv_file_path, index=False)"
   ]
  },
  {
   "cell_type": "code",
   "execution_count": 182,
   "id": "1970c4c0-2c74-46a6-91f6-b8d2b24d1cf0",
   "metadata": {},
   "outputs": [],
   "source": [
    "export_silver_df(new_df)"
   ]
  },
  {
   "cell_type": "code",
   "execution_count": null,
   "id": "06e3514e-1f19-4cdb-beb1-20ceb8f193c2",
   "metadata": {},
   "outputs": [],
   "source": []
  }
 ],
 "metadata": {
  "kernelspec": {
   "display_name": "Python 3 (ipykernel)",
   "language": "python",
   "name": "python3"
  },
  "language_info": {
   "codemirror_mode": {
    "name": "ipython",
    "version": 3
   },
   "file_extension": ".py",
   "mimetype": "text/x-python",
   "name": "python",
   "nbconvert_exporter": "python",
   "pygments_lexer": "ipython3",
   "version": "3.8.12"
  }
 },
 "nbformat": 4,
 "nbformat_minor": 5
}
