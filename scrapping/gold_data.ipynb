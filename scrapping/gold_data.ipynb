{
 "cells": [
  {
   "cell_type": "markdown",
   "id": "a0342985",
   "metadata": {},
   "source": [
    "## Gold Data "
   ]
  },
  {
   "cell_type": "markdown",
   "id": "3ddad461",
   "metadata": {},
   "source": [
    "L'objectif de cette partie est de préparer les données à la visualisation\n",
    "\n",
    "Dans un premier temps, on va garder les colonnes qui ont assez de valeurs pour la visualisation"
   ]
  },
  {
   "cell_type": "code",
   "execution_count": null,
   "id": "e0730b76",
   "metadata": {},
   "outputs": [],
   "source": [
    "global_df = pd.read_csv(\"../data/silver/global_df/global_salaires_data.csv\")\n",
    "global_df.head(3)"
   ]
  },
  {
   "cell_type": "code",
   "execution_count": null,
   "id": "29818c75",
   "metadata": {},
   "outputs": [],
   "source": [
    "job_salary = pd.read_csv('../data/silver/job_salary.csv')\n",
    "job_salary.head()"
   ]
  },
  {
   "cell_type": "code",
   "execution_count": null,
   "id": "50277d34",
   "metadata": {},
   "outputs": [],
   "source": [
    "def shorten_job_name(df, job_salary):\n",
    "    job_name_list = job_salary['Job'].str.lower().tolist()\n",
    "    job_name_list.append('data analyst')\n",
    "    \n",
    "    def replace_name(long_name):\n",
    "        long_name = long_name.lower()\n",
    "        for job_name in job_name_list:\n",
    "            if job_name in long_name:\n",
    "                return job_name\n",
    "        return long_name\n",
    "    \n",
    "    df['jobs'] = df['jobs'].apply(replace_name)\n",
    "    return df"
   ]
  },
  {
   "cell_type": "code",
   "execution_count": null,
   "id": "f8068603",
   "metadata": {},
   "outputs": [],
   "source": [
    "df = shorten_job_name(global_df, job_salary)"
   ]
  },
  {
   "cell_type": "code",
   "execution_count": null,
   "id": "a6cdfd75",
   "metadata": {},
   "outputs": [],
   "source": [
    "def count_nan(df):\n",
    "    \n",
    "    nan_counts = df.isna().sum() # compte le nombre de NaN pour chaque colonne\n",
    "    total_counts = len(df) # compte le nombre total de données dans le dataframe\n",
    "    nan_percentages = (nan_counts / total_counts) * 100 # calcule le pourcentage de NaN pour chaque colonne\n",
    "    result_df = pd.concat([nan_counts, nan_percentages], axis=1) # combine les deux séries en un dataframe\n",
    "    result_df.columns = ['NaN Count', 'NaN Percentage'] # renomme les colonnes du nouveau dataframe\n",
    "    return result_df"
   ]
  },
  {
   "cell_type": "code",
   "execution_count": null,
   "id": "6aca11b0",
   "metadata": {},
   "outputs": [],
   "source": [
    "df_NaN = count_nan(global_df)\n",
    "df_NaN = df_NaN.sort_values(by = ['NaN Count'], ascending = False)\n",
    "# df_NaN = df_NaN.loc[df_NaN['NaN Count'] != 0]\n",
    "df_NaN"
   ]
  },
  {
   "cell_type": "code",
   "execution_count": null,
   "id": "700bc4a6",
   "metadata": {},
   "outputs": [],
   "source": [
    "# supprimer les colonnes qui ont trop de NaN\n",
    "def no_NaN(df, treshold):\n",
    "    \n",
    "    nan_counts = df.isna().sum() # compte le nombre de NaN pour chaque colonne\n",
    "    total_counts = len(df) # compte le nombre total de données dans le dataframe\n",
    "    nan_percentages = (nan_counts / total_counts) * 100 # calcule le pourcentage de NaN pour chaque colonne\n",
    "    nan_treshold = nan_percentages[nan_percentages.values < treshold]\n",
    "    \n",
    "    return df[nan_treshold.index]"
   ]
  },
  {
   "cell_type": "code",
   "execution_count": null,
   "id": "94a58f8c",
   "metadata": {},
   "outputs": [],
   "source": [
    "# df version 2\n",
    "df = no_NaN(global_df, 50)\n",
    "# df = df.dropna()\n",
    "df.isna().sum()"
   ]
  },
  {
   "cell_type": "markdown",
   "id": "ece1ca95",
   "metadata": {},
   "source": [
    "### Export Gold data"
   ]
  },
  {
   "cell_type": "code",
   "execution_count": null,
   "id": "23751771",
   "metadata": {},
   "outputs": [],
   "source": [
    "def export_to_csv_gold(df):\n",
    "    csv_file_path = f\"../data/gold/gold_salaires_data.csv\"\n",
    "    df.to_csv(csv_file_path, index=False)"
   ]
  },
  {
   "cell_type": "code",
   "execution_count": null,
   "id": "e48d06b0",
   "metadata": {},
   "outputs": [],
   "source": [
    "export_to_csv_gold(df)"
   ]
  }
 ],
 "metadata": {
  "kernelspec": {
   "display_name": "Python 3 (ipykernel)",
   "language": "python",
   "name": "python3"
  },
  "language_info": {
   "codemirror_mode": {
    "name": "ipython",
    "version": 3
   },
   "file_extension": ".py",
   "mimetype": "text/x-python",
   "name": "python",
   "nbconvert_exporter": "python",
   "pygments_lexer": "ipython3",
   "version": "3.8.17"
  }
 },
 "nbformat": 4,
 "nbformat_minor": 5
}
