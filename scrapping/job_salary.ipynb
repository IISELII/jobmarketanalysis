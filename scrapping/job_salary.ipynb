{
 "cells": [
  {
   "cell_type": "code",
   "execution_count": 47,
   "id": "714fd3b9",
   "metadata": {},
   "outputs": [],
   "source": [
    "# IMPORT DES DONNEES\n",
    "import pandas as pd \n",
    "import os\n",
    "\n",
    "# Import Selenium\n",
    "from selenium import webdriver \n",
    "from selenium.webdriver.chrome.options import Options\n",
    "from webdriver_manager.chrome import ChromeDriverManager\n",
    "from selenium.webdriver.common.by import By \n",
    "from selenium.webdriver.support.ui import WebDriverWait \n",
    "from selenium.webdriver.support import expected_conditions as EC\n",
    "from selenium.webdriver.chrome.options import Options"
   ]
  },
  {
   "cell_type": "code",
   "execution_count": 48,
   "id": "e2ad0799-b288-4830-9a4d-e48609f849e1",
   "metadata": {},
   "outputs": [],
   "source": [
    "# set up the driver\n",
    "options = Options()\n",
    "options.add_argument(\"--headless\")\n",
    "options.add_argument(\"--no-sandbox\")\n",
    "options.add_argument(\"--disable-dev-shm-usage\")\n",
    "options.binary_location = \"/usr/bin/google-chrome\"  # specify the path to your chrome binary location\n",
    "\n",
    "# Get the driver path\n",
    "driver_path = ChromeDriverManager().install()\n",
    "\n",
    "# Set ChromeDriver path\n",
    "os.environ[\"PATH\"] += os.pathsep + os.path.dirname(driver_path)\n",
    "\n",
    "driver = webdriver.Chrome(options=options)\n",
    "driver.get(\"https://www.payscale.com/research/US/Job=Software_Engineer/Salary\")"
   ]
  },
  {
   "cell_type": "code",
   "execution_count": null,
   "id": "28fa6039-2872-45e0-974a-a2a02cff8078",
   "metadata": {},
   "outputs": [],
   "source": []
  }
 ],
 "metadata": {
  "kernelspec": {
   "display_name": "Python 3 (ipykernel)",
   "language": "python",
   "name": "python3"
  },
  "language_info": {
   "codemirror_mode": {
    "name": "ipython",
    "version": 3
   },
   "file_extension": ".py",
   "mimetype": "text/x-python",
   "name": "python",
   "nbconvert_exporter": "python",
   "pygments_lexer": "ipython3",
   "version": "3.8.12"
  }
 },
 "nbformat": 4,
 "nbformat_minor": 5
}
