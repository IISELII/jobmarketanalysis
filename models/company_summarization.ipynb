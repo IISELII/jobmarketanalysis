{
 "cells": [
  {
   "cell_type": "code",
   "execution_count": 1,
   "id": "45c4e386-16e7-42b2-bb3e-d252333b32f8",
   "metadata": {},
   "outputs": [],
   "source": [
    "# import des librairies\n",
    "from transformers import T5ForConditionalGeneration, T5Tokenizer\n",
    "import pandas as pd\n",
    "import numpy as np "
   ]
  },
  {
   "cell_type": "code",
   "execution_count": 2,
   "id": "36a860f0-2324-40ca-81fd-73f4347807ce",
   "metadata": {},
   "outputs": [
    {
     "data": {
      "text/html": [
       "<div>\n",
       "<style scoped>\n",
       "    .dataframe tbody tr th:only-of-type {\n",
       "        vertical-align: middle;\n",
       "    }\n",
       "\n",
       "    .dataframe tbody tr th {\n",
       "        vertical-align: top;\n",
       "    }\n",
       "\n",
       "    .dataframe thead th {\n",
       "        text-align: right;\n",
       "    }\n",
       "</style>\n",
       "<table border=\"1\" class=\"dataframe\">\n",
       "  <thead>\n",
       "    <tr style=\"text-align: right;\">\n",
       "      <th></th>\n",
       "      <th>jobs</th>\n",
       "      <th>description</th>\n",
       "      <th>loc</th>\n",
       "      <th>datePosted</th>\n",
       "      <th>workhours</th>\n",
       "      <th>salary</th>\n",
       "      <th>contract_type</th>\n",
       "      <th>experience</th>\n",
       "      <th>diploma</th>\n",
       "      <th>skills</th>\n",
       "      <th>qualifications</th>\n",
       "      <th>industry</th>\n",
       "      <th>company</th>\n",
       "      <th>size</th>\n",
       "      <th>company_description</th>\n",
       "      <th>tools</th>\n",
       "      <th>ID_dep</th>\n",
       "      <th>ville</th>\n",
       "      <th>date</th>\n",
       "    </tr>\n",
       "  </thead>\n",
       "  <tbody>\n",
       "    <tr>\n",
       "      <th>0</th>\n",
       "      <td>Data Engineer sénior (F/H) CDI (H/F)</td>\n",
       "      <td>En tant que Data Engineer chez Quantmetry, vou...</td>\n",
       "      <td>75 - PARIS 08</td>\n",
       "      <td>Actualisé le 12 juillet 2023</td>\n",
       "      <td>38H Travail en journée</td>\n",
       "      <td>40000.0 - 50000.0</td>\n",
       "      <td>Contrat à durée indéterminée</td>\n",
       "      <td>5 ans</td>\n",
       "      <td>NaN</td>\n",
       "      <td>['Concevoir et gérer un projet', \"Concevoir un...</td>\n",
       "      <td>Cadre</td>\n",
       "      <td>Conseil pour les affaires et autres conseils d...</td>\n",
       "      <td>QUANTMETRY</td>\n",
       "      <td>100 à 199 salariés</td>\n",
       "      <td>Pure player en Data et Intelligence Artificiel...</td>\n",
       "      <td>NaN</td>\n",
       "      <td>75</td>\n",
       "      <td>PARIS 08</td>\n",
       "      <td>2023/07/12</td>\n",
       "    </tr>\n",
       "    <tr>\n",
       "      <th>1</th>\n",
       "      <td>Data Consultant Stratégie Sénior (H/F)</td>\n",
       "      <td>Nous recrutons des personnes avec une appétenc...</td>\n",
       "      <td>75 - PARIS 08</td>\n",
       "      <td>Actualisé le 12 juillet 2023</td>\n",
       "      <td>35H Travail en journée</td>\n",
       "      <td>3100.0 - 5000.0</td>\n",
       "      <td>Contrat à durée indéterminée</td>\n",
       "      <td>5 ans</td>\n",
       "      <td>NaN</td>\n",
       "      <td>[\"Analyser les résultats d'un projet\", \"Déclin...</td>\n",
       "      <td>Cadre</td>\n",
       "      <td>Conseil pour les affaires et autres conseils d...</td>\n",
       "      <td>QUANTMETRY</td>\n",
       "      <td>100 à 199 salariés</td>\n",
       "      <td>Pure player en Data et Intelligence Artificiel...</td>\n",
       "      <td>NaN</td>\n",
       "      <td>75</td>\n",
       "      <td>PARIS 08</td>\n",
       "      <td>2023/07/12</td>\n",
       "    </tr>\n",
       "    <tr>\n",
       "      <th>2</th>\n",
       "      <td>Chef de projets Performance Durable/Energie/Da...</td>\n",
       "      <td>Intégré(e) au sein de la Direction Performance...</td>\n",
       "      <td>92 - ASNIERES SUR SEINE</td>\n",
       "      <td>Actualisé le 13 juillet 2023</td>\n",
       "      <td>35H Travail en journée</td>\n",
       "      <td>NaN</td>\n",
       "      <td>Contrat à durée indéterminée</td>\n",
       "      <td>3 ans</td>\n",
       "      <td>NaN</td>\n",
       "      <td>['Contrôler et faire appliquer le respect de d...</td>\n",
       "      <td>Employé qualifié</td>\n",
       "      <td>Activités des sièges sociaux</td>\n",
       "      <td>NEXITY</td>\n",
       "      <td>250 à 499 salariés</td>\n",
       "      <td>Nexity est aujourd hui leader sur les différen...</td>\n",
       "      <td>tableau</td>\n",
       "      <td>92</td>\n",
       "      <td>ASNIERES SUR SEINE</td>\n",
       "      <td>2023/07/13</td>\n",
       "    </tr>\n",
       "  </tbody>\n",
       "</table>\n",
       "</div>"
      ],
      "text/plain": [
       "                                                jobs  \\\n",
       "0               Data Engineer sénior (F/H) CDI (H/F)   \n",
       "1             Data Consultant Stratégie Sénior (H/F)   \n",
       "2  Chef de projets Performance Durable/Energie/Da...   \n",
       "\n",
       "                                         description                      loc  \\\n",
       "0  En tant que Data Engineer chez Quantmetry, vou...            75 - PARIS 08   \n",
       "1  Nous recrutons des personnes avec une appétenc...            75 - PARIS 08   \n",
       "2  Intégré(e) au sein de la Direction Performance...  92 - ASNIERES SUR SEINE   \n",
       "\n",
       "                     datePosted               workhours             salary  \\\n",
       "0  Actualisé le 12 juillet 2023  38H Travail en journée  40000.0 - 50000.0   \n",
       "1  Actualisé le 12 juillet 2023  35H Travail en journée    3100.0 - 5000.0   \n",
       "2  Actualisé le 13 juillet 2023  35H Travail en journée                NaN   \n",
       "\n",
       "                  contract_type experience diploma  \\\n",
       "0  Contrat à durée indéterminée      5 ans     NaN   \n",
       "1  Contrat à durée indéterminée      5 ans     NaN   \n",
       "2  Contrat à durée indéterminée      3 ans     NaN   \n",
       "\n",
       "                                              skills    qualifications  \\\n",
       "0  ['Concevoir et gérer un projet', \"Concevoir un...             Cadre   \n",
       "1  [\"Analyser les résultats d'un projet\", \"Déclin...             Cadre   \n",
       "2  ['Contrôler et faire appliquer le respect de d...  Employé qualifié   \n",
       "\n",
       "                                            industry     company  \\\n",
       "0  Conseil pour les affaires et autres conseils d...  QUANTMETRY   \n",
       "1  Conseil pour les affaires et autres conseils d...  QUANTMETRY   \n",
       "2                       Activités des sièges sociaux      NEXITY   \n",
       "\n",
       "                 size                                company_description  \\\n",
       "0  100 à 199 salariés  Pure player en Data et Intelligence Artificiel...   \n",
       "1  100 à 199 salariés  Pure player en Data et Intelligence Artificiel...   \n",
       "2  250 à 499 salariés  Nexity est aujourd hui leader sur les différen...   \n",
       "\n",
       "     tools ID_dep               ville        date  \n",
       "0      NaN     75            PARIS 08  2023/07/12  \n",
       "1      NaN     75            PARIS 08  2023/07/12  \n",
       "2  tableau     92  ASNIERES SUR SEINE  2023/07/13  "
      ]
     },
     "execution_count": 2,
     "metadata": {},
     "output_type": "execute_result"
    }
   ],
   "source": [
    "# import des données\n",
    "df = pd.read_csv(\"../data/silver/silver_data.csv\")\n",
    "df.head(3)"
   ]
  },
  {
   "cell_type": "code",
   "execution_count": 3,
   "id": "2a29cdba-fe53-42c7-97e4-402f01c943ed",
   "metadata": {},
   "outputs": [
    {
     "data": {
      "text/plain": [
       "jobs                      0\n",
       "description               0\n",
       "loc                     902\n",
       "datePosted              902\n",
       "workhours              1542\n",
       "salary                 1591\n",
       "contract_type             0\n",
       "experience                0\n",
       "diploma                1827\n",
       "skills                  861\n",
       "qualifications         1072\n",
       "industry               1031\n",
       "company                 965\n",
       "size                    706\n",
       "company_description     947\n",
       "tools                   930\n",
       "ID_dep                    0\n",
       "ville                   228\n",
       "date                      0\n",
       "dtype: int64"
      ]
     },
     "execution_count": 3,
     "metadata": {},
     "output_type": "execute_result"
    }
   ],
   "source": [
    "df.isnull().sum()"
   ]
  },
  {
   "cell_type": "markdown",
   "id": "dfa655b6-ab9a-44b3-b060-360739ca172b",
   "metadata": {},
   "source": [
    "### preprocessing"
   ]
  },
  {
   "cell_type": "code",
   "execution_count": 4,
   "id": "63e93f10-d06e-4f83-95ec-bde1ef3cc23c",
   "metadata": {},
   "outputs": [
    {
     "data": {
      "text/plain": [
       "(954, 19)"
      ]
     },
     "execution_count": 4,
     "metadata": {},
     "output_type": "execute_result"
    }
   ],
   "source": [
    "df = df[df['company_description'].notna()]\n",
    "df.shape"
   ]
  },
  {
   "cell_type": "code",
   "execution_count": 9,
   "id": "24ecc1df-de76-48f0-be4e-2f2b7e842100",
   "metadata": {},
   "outputs": [
    {
     "data": {
      "text/plain": [
       "\"Pure player en Data et Intelligence Artificielle, Quantmetry accompagne des grands comptes de tous secteurs (PSA, BPCE, Crédit Agricole, Safran, Orange, EDF, SNCF, Decathlon...) à valoriser leur patrimoine de données et à mettre en ?uvre des solutions d'IA. Pour ce faire, Quantmetry s'appuie sur ses expertises en Conseil Stratégique et Opérationnel, Data Science, Architecture & Data Engineering.\""
      ]
     },
     "execution_count": 9,
     "metadata": {},
     "output_type": "execute_result"
    }
   ],
   "source": [
    "company_description = df[\"company_description\"].tolist()\n",
    "texts = company_description[:20]\n",
    "texts[0]"
   ]
  },
  {
   "cell_type": "markdown",
   "id": "28081347-865c-4ce2-ab51-b6853c3c15b1",
   "metadata": {},
   "source": [
    "### Models"
   ]
  },
  {
   "cell_type": "code",
   "execution_count": 6,
   "id": "06f46ab6-b4b5-4614-829d-d444c1633ced",
   "metadata": {},
   "outputs": [],
   "source": [
    "# initialize the model architecture and weights\n",
    "model = T5ForConditionalGeneration.from_pretrained(\"t5-base\")\n",
    "# initialize the model tokenizer\n",
    "tokenizer = T5Tokenizer.from_pretrained(\"t5-base\")"
   ]
  },
  {
   "cell_type": "code",
   "execution_count": 7,
   "id": "cc61af0b-9337-4235-a710-c924957a3eef",
   "metadata": {},
   "outputs": [],
   "source": [
    "def summarize_texts(texts, model, tokenizer):\n",
    "    \"\"\"\n",
    "    Summarizes a list of texts using the provided model and tokenizer.\n",
    "    \"\"\"\n",
    "    # Prefix each text with \"summarize: \" and tokenize them\n",
    "    texts = [\"summarize: \" + text for text in texts]\n",
    "    inputs = tokenizer(texts, return_tensors=\"pt\", padding=True, truncation=True, max_length=512).input_ids\n",
    "\n",
    "    # Generate the summarization output\n",
    "    outputs = model.generate(\n",
    "        inputs, \n",
    "        max_length=150, \n",
    "        min_length=40, \n",
    "        length_penalty=2.0, \n",
    "        num_beams=4, \n",
    "        early_stopping=True)\n",
    "\n",
    "    # Decode each summary output\n",
    "    summaries = [tokenizer.decode(output, skip_special_tokens=True) for output in outputs]\n",
    "    \n",
    "    return summaries"
   ]
  },
  {
   "cell_type": "code",
   "execution_count": 10,
   "id": "d3a7603c-e221-4a87-b604-06b060a4f2a0",
   "metadata": {},
   "outputs": [],
   "source": [
    "summaries = summarize_texts(texts, model, tokenizer)"
   ]
  },
  {
   "cell_type": "code",
   "execution_count": 13,
   "id": "a714c7d1-5147-4ead-8c81-43a5fc42f7c6",
   "metadata": {},
   "outputs": [
    {
     "data": {
      "text/plain": [
       "[\"Quantmetry accompagne des grands comptes de tous les secteurs (PSA, BPCE, Crédit Agricole, Safran, Orange, EDF, SNCF, Decathlon...). pour ce faire, Quantmetry s'appuie sur ses expertises en Conseil Stratégique et Opérationnel, Data Science, Architecture & Data Engineering.\",\n",
       " \"Quantmetry accompagne des grands comptes de tous les secteurs (PSA, BPCE, Crédit Agricole, Safran, Orange, EDF, SNCF, Decathlon...). pour ce faire, Quantmetry s'appuie sur ses expertises en Conseil Stratégique et Opérationnel, Data Science, Architecture & Data Engineering.\",\n",
       " \"Nexity est aujourd'hui leader sur les différents métiers de l immobilier tel que la promotion, services gestion d actifs et Régénération urbaine. Nexity est reconnu pour sa capacité à apporter une réponse globale aux besoins de ses clients : particuliers, entreprises et collectivités territoriales.\"]"
      ]
     },
     "execution_count": 13,
     "metadata": {},
     "output_type": "execute_result"
    }
   ],
   "source": [
    "summaries[:3]"
   ]
  },
  {
   "cell_type": "code",
   "execution_count": null,
   "id": "f1c49c95-34e3-4d1b-bb9f-6802a91d353e",
   "metadata": {},
   "outputs": [],
   "source": []
  }
 ],
 "metadata": {
  "kernelspec": {
   "display_name": "Python 3 (ipykernel)",
   "language": "python",
   "name": "python3"
  },
  "language_info": {
   "codemirror_mode": {
    "name": "ipython",
    "version": 3
   },
   "file_extension": ".py",
   "mimetype": "text/x-python",
   "name": "python",
   "nbconvert_exporter": "python",
   "pygments_lexer": "ipython3",
   "version": "3.8.12"
  }
 },
 "nbformat": 4,
 "nbformat_minor": 5
}
