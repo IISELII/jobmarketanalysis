{
 "cells": [
  {
   "cell_type": "code",
   "execution_count": 2,
   "id": "714fd3b9",
   "metadata": {},
   "outputs": [],
   "source": [
    "# IMPORT DES DONNEES\n",
    "import pandas as pd \n",
    "import os\n",
    "import time\n",
    "\n",
    "# Import Selenium\n",
    "from selenium import webdriver \n",
    "from selenium.webdriver.chrome.options import Options\n",
    "from webdriver_manager.chrome import ChromeDriverManager\n",
    "from selenium.webdriver.common.by import By \n",
    "from selenium.webdriver.support.ui import WebDriverWait \n",
    "from selenium.webdriver.support import expected_conditions as EC\n",
    "from selenium.webdriver.chrome.options import Options\n",
    "from selenium.common.exceptions import NoSuchElementException, TimeoutException, ElementClickInterceptedException\n",
    "from selenium.webdriver.common.action_chains import ActionChains"
   ]
  },
  {
   "cell_type": "code",
   "execution_count": 19,
   "id": "e2ad0799-b288-4830-9a4d-e48609f849e1",
   "metadata": {},
   "outputs": [],
   "source": [
    "# set up the driver\n",
    "options = Options()\n",
    "options.add_argument(\"--headless\")\n",
    "options.add_argument(\"--no-sandbox\")\n",
    "options.add_argument(\"--disable-dev-shm-usage\")\n",
    "options.binary_location = \"/usr/bin/google-chrome\"  # specify the path to your chrome binary location\n",
    "\n",
    "# Get the driver path\n",
    "driver_path = ChromeDriverManager().install()\n",
    "\n",
    "# Set ChromeDriver path\n",
    "os.environ[\"PATH\"] += os.pathsep + os.path.dirname(driver_path)\n",
    "\n",
    "url = \"https://www.payscale.com/research/US/Job=Software_Engineer/Salary\"\n",
    "url_base = \"https://www.payscale.com/research/US/Job/Information-Technology/A\"\n",
    "driver = webdriver.Chrome(options=options)\n",
    "driver.get(url)"
   ]
  },
  {
   "cell_type": "code",
   "execution_count": 20,
   "id": "90b64abd-9a70-43b1-80f6-8681f486ca5a",
   "metadata": {},
   "outputs": [],
   "source": [
    "# Splitting the URL at the '=' symbol and taking the second part\n",
    "# Then split again at the '/' symbol to isolate the job title and replace underscores with spaces\n",
    "job_title = url.split('=')[1].split('/')[0].replace('_', ' ')"
   ]
  },
  {
   "cell_type": "code",
   "execution_count": 21,
   "id": "94d78054-58c8-4082-81a6-5d0213d894aa",
   "metadata": {},
   "outputs": [
    {
     "data": {
      "text/plain": [
       "'Software Engineer'"
      ]
     },
     "execution_count": 21,
     "metadata": {},
     "output_type": "execute_result"
    }
   ],
   "source": [
    "job_title"
   ]
  },
  {
   "cell_type": "code",
   "execution_count": 26,
   "id": "89a04dde-1ae9-4e09-b9c7-5da1953c1d20",
   "metadata": {},
   "outputs": [],
   "source": [
    "# Remove the overlay if it exists\n",
    "driver.execute_script(\"\"\"\n",
    "if (document.querySelector('.onetrust-pc-dark-filter')) {\n",
    "    document.querySelector('.onetrust-pc-dark-filter').style.display = 'none';\n",
    "}\n",
    "\"\"\")\n",
    "\n",
    "# Wait for the element to be clickable\n",
    "read_more_button_1 = WebDriverWait(driver, 10).until(\n",
    "    EC.element_to_be_clickable((By.XPATH, '(//span[@class=\"expandable__more\"])[1]'))\n",
    ")\n",
    "\n",
    "# Scroll to the element\n",
    "driver.execute_script(\"arguments[0].scrollIntoView();\", read_more_button_1)\n",
    "\n",
    "# Adjust the viewport\n",
    "driver.execute_script(\"window.scrollBy(0, -100);\")  # adjusted more to avoid potential obstructions\n",
    "\n",
    "# Remove the overlay\n",
    "driver.execute_script(\"document.querySelector('.onetrust-pc-dark-filter').style.display = 'none';\")\n",
    "\n",
    "# Add an extended delay\n",
    "time.sleep(5)\n",
    "\n",
    "# Try to click using WebDriver with a retry logic\n",
    "for _ in range(3):  # tries to click 3 times\n",
    "    try:\n",
    "        actions = ActionChains(driver)\n",
    "        actions.move_to_element(read_more_button_1).click(read_more_button_1).perform()\n",
    "        break\n",
    "    except ElementClickInterceptedException:\n",
    "        time.sleep(1)\n",
    "else:\n",
    "    driver.execute_script(\"arguments[0].click();\", read_more_button_1)\n",
    "\n",
    "# Fetch the expanded text for salary_by_exp\n",
    "salary_by_exp_element = read_more_button_1.find_element(By.XPATH, '..')\n",
    "salary_by_exp = salary_by_exp_element.text"
   ]
  },
  {
   "cell_type": "code",
   "execution_count": 27,
   "id": "f2008335-6709-4ae5-90a3-43ed7353523a",
   "metadata": {},
   "outputs": [],
   "source": [
    "if salary_by_exp.endswith(\"Read less\"):\n",
    "    salary_by_exp = salary_by_exp[:-9].strip()  # 9 is the length of \"Read less\", and we strip to remove any potential whitespace"
   ]
  },
  {
   "cell_type": "code",
   "execution_count": 28,
   "id": "a98b1bce-fe80-432e-b4e7-41ed57e283bf",
   "metadata": {},
   "outputs": [
    {
     "data": {
      "text/plain": [
       "'An entry-level Software Engineer with less than 1 year experience can expect to earn an average total compensation (includes tips, bonus, and overtime pay) of $80,131 based on 6,258 salaries. An early career Software Engineer with 1-4 years of experience earns an average total compensation of $89,324 based on 35,983 salaries. A mid-career Software Engineer with 5-9 years of experience earns an average total compensation of $101,761 based on 12,844 salaries. An experienced Software Engineer with 10-19 years of experience earns an average total compensation of $113,840 based on 4,184 salaries. In their late career (20 years and higher), employees earn an average total compensation of $120,621.'"
      ]
     },
     "execution_count": 28,
     "metadata": {},
     "output_type": "execute_result"
    }
   ],
   "source": [
    "salary_by_exp"
   ]
  },
  {
   "cell_type": "code",
   "execution_count": 22,
   "id": "781f3b8a-d1a6-4e50-934f-b256b1ce1dc0",
   "metadata": {},
   "outputs": [],
   "source": [
    "# Remove the overlay if it exists\n",
    "driver.execute_script(\"\"\"\n",
    "if (document.querySelector('.onetrust-pc-dark-filter')) {\n",
    "    document.querySelector('.onetrust-pc-dark-filter').style.display = 'none';\n",
    "}\n",
    "\"\"\")\n",
    "\n",
    "# Attendez que le bouton \"Read more\" soit cliquable\n",
    "read_more_button_2 = WebDriverWait(driver, 10).until(\n",
    "    EC.element_to_be_clickable((By.XPATH, '(//span[@class=\"expandable__more\"])[2]'))\n",
    ")\n",
    "\n",
    "# Cliquer sur le bouton \"Read more\" en utilisant JavaScript\n",
    "driver.execute_script(\"arguments[0].click();\", read_more_button_2)\n",
    "\n",
    "# Augmentez le temps d'attente pour s'assurer que le contenu est chargé\n",
    "time.sleep(10)  # Vous pouvez ajuster cette valeur en fonction de la rapidité de chargement de la page\n",
    "\n",
    "# Récupérer chaque paragraphe\n",
    "# Step 1: Localisez le conteneur parent\n",
    "parent_container_xpath = '/html/body/div[1]/div/div[3]/div/div[1]/div/div'\n",
    "parent_container = driver.find_element(By.XPATH, parent_container_xpath)\n",
    "\n",
    "# Step 2: Récupérez tous les éléments <p>\n",
    "all_paragraphs = parent_container.find_elements(By.TAG_NAME, \"p\")\n",
    "\n",
    "# Step 3: Ajoutez le texte de chaque élément <p> à une liste\n",
    "paragraphs = [para.text for para in all_paragraphs if para.text.strip() != \"\"]\n",
    "    \n",
    "job_desc = \" \".join(paragraphs)"
   ]
  },
  {
   "cell_type": "code",
   "execution_count": 23,
   "id": "0e7f87fe-023d-4ee9-b8dc-e9fdea2f10d8",
   "metadata": {},
   "outputs": [],
   "source": [
    "# print(driver.title)\n",
    "# print(driver.current_url)\n",
    "# driver.save_screenshot('screenshot.png')"
   ]
  },
  {
   "cell_type": "code",
   "execution_count": 24,
   "id": "185173ef-5cd8-471b-bc9d-cd65cb176b30",
   "metadata": {},
   "outputs": [],
   "source": [
    "if job_desc.endswith(\"Read less\"):\n",
    "    job_desc = job_desc[:-9].strip()  # 9 is the length of \"Read less\", and we strip to remove any potential whitespace"
   ]
  },
  {
   "cell_type": "code",
   "execution_count": 25,
   "id": "7dbc44e2-8584-4eaf-a64a-e7411944536c",
   "metadata": {},
   "outputs": [
    {
     "data": {
      "text/plain": [
       "'In the world of software design and development, a software engineer plays a key role. The engineer is typically the person who helps to develop the ways that software functions created by a software design team will work. The software engineer will work with designers to help consolidate disparate program functions into a unified whole. The engineer also works with programmers and coders to help map out various programming tasks and smaller functions, which are then combined into larger, functioning programs or new features for existing software. The engineer will typically work in both design and development stages of the software creation. During the design phase, dedicated designers or design teams will work with the engineer to help work out the basic things the program or update will be expected to perform. The engineer will typically help to plot out the various aspects of the automated tasks that will be necessary, usually using design documentation and flowcharts to help illustrate the process. To work as a software engineer, a person must normally have a bachelor’s degree in computer engineering, computer science, or a related field. Many companies will prefer candidates for this job who can show practical experience in programming and coding. Most software engineers work in an office or computer lab environment during regular work hours of the business week.'"
      ]
     },
     "execution_count": 25,
     "metadata": {},
     "output_type": "execute_result"
    }
   ],
   "source": [
    "job_desc"
   ]
  },
  {
   "cell_type": "code",
   "execution_count": 31,
   "id": "bfb401d7-8bc6-4f44-b208-3077af9517c2",
   "metadata": {},
   "outputs": [],
   "source": [
    "def scrape_payscale_jobs(base_url, start_letter='A', end_letter='W'):\n",
    "    driver = webdriver.Chrome()  # Make sure to have the correct options if needed\n",
    "    all_data = []\n",
    "\n",
    "    for letter in range(ord(start_letter), ord(end_letter)+1):\n",
    "        print(f\"Page {chr(letter)} en cours d'extraction\")\n",
    "        current_url = base_url + chr(letter)\n",
    "        driver.get(current_url)\n",
    "\n",
    "        job_links = driver.find_elements(By.CSS_SELECTOR, \".subcats__links__item\")  # Fetch job links on the current page\n",
    "        job_urls = [job_link.get_attribute(\"href\") for job_link in job_links]\n",
    "\n",
    "        for job_url in job_urls:\n",
    "            driver.get(job_url)\n",
    "\n",
    "            # Remove the overlay if it exists\n",
    "            driver.execute_script(\"\"\"\n",
    "            if (document.querySelector('.onetrust-pc-dark-filter')) {\n",
    "                document.querySelector('.onetrust-pc-dark-filter').style.display = 'none';\n",
    "            }\n",
    "            \"\"\")\n",
    "            \n",
    "            # Wait for the element to be clickable\n",
    "            read_more_button_1 = WebDriverWait(driver, 10).until(\n",
    "                EC.element_to_be_clickable((By.XPATH, '(//span[@class=\"expandable__more\"])[1]'))\n",
    "            )\n",
    "            \n",
    "            # Scroll to the element\n",
    "            driver.execute_script(\"arguments[0].scrollIntoView();\", read_more_button_1)\n",
    "            \n",
    "            # Adjust the viewport\n",
    "            driver.execute_script(\"window.scrollBy(0, -100);\")  # adjusted more to avoid potential obstructions\n",
    "            \n",
    "            # Remove the overlay\n",
    "            driver.execute_script(\"document.querySelector('.onetrust-pc-dark-filter').style.display = 'none';\")\n",
    "            \n",
    "            # Add an extended delay\n",
    "            time.sleep(5)\n",
    "            \n",
    "            # Try to click using WebDriver with a retry logic\n",
    "            for _ in range(3):  # tries to click 3 times\n",
    "                try:\n",
    "                    actions = ActionChains(driver)\n",
    "                    actions.move_to_element(read_more_button_1).click(read_more_button_1).perform()\n",
    "                    break\n",
    "                except ElementClickInterceptedException:\n",
    "                    time.sleep(1)\n",
    "            else:\n",
    "                driver.execute_script(\"arguments[0].click();\", read_more_button_1)\n",
    "            \n",
    "            # Fetch the expanded text for salary_by_exp\n",
    "            salary_by_exp_element = read_more_button_1.find_element(By.XPATH, '..')\n",
    "            salary_by_exp = salary_by_exp_element.text\n",
    "\n",
    "            \n",
    "            # Remove the overlay if it exists\n",
    "            driver.execute_script(\"\"\"\n",
    "            if (document.querySelector('.onetrust-pc-dark-filter')) {\n",
    "                document.querySelector('.onetrust-pc-dark-filter').style.display = 'none';\n",
    "            }\n",
    "            \"\"\")\n",
    "            \n",
    "            # Attendez que le bouton \"Read more\" soit cliquable\n",
    "            read_more_button_2 = WebDriverWait(driver, 10).until(\n",
    "                EC.element_to_be_clickable((By.XPATH, '(//span[@class=\"expandable__more\"])[2]'))\n",
    "            )\n",
    "            \n",
    "            # Cliquer sur le bouton \"Read more\" en utilisant JavaScript\n",
    "            driver.execute_script(\"arguments[0].click();\", read_more_button_2)\n",
    "            \n",
    "            # Augmentez le temps d'attente pour s'assurer que le contenu est chargé\n",
    "            time.sleep(10)  # Vous pouvez ajuster cette valeur en fonction de la rapidité de chargement de la page\n",
    "            \n",
    "            # Récupérer chaque paragraphe\n",
    "            # Step 1: Localisez le conteneur parent\n",
    "            parent_container_xpath = '/html/body/div[1]/div/div[3]/div/div[1]/div/div'\n",
    "            parent_container = driver.find_element(By.XPATH, parent_container_xpath)\n",
    "            \n",
    "            # Step 2: Récupérez tous les éléments <p>\n",
    "            all_paragraphs = parent_container.find_elements(By.TAG_NAME, \"p\")\n",
    "            \n",
    "            # Step 3: Ajoutez le texte de chaque élément <p> à une liste\n",
    "            paragraphs = [para.text for para in all_paragraphs if para.text.strip() != \"\"]\n",
    "                \n",
    "            job_desc = \" \".join(paragraphs)\n",
    "\n",
    "            # Stockez les données dans un dictionnaire, par exemple:\n",
    "            job_data = {\n",
    "                \"title\": job_title,\n",
    "                \"salary_by_exp\": salary_by_exp,\n",
    "                \"description\": job_desc\n",
    "            }\n",
    "            all_data.append(job_data)\n",
    "\n",
    "            driver.back()  # Revenir à la liste des jobs pour la lettre en cours\n",
    "\n",
    "    driver.quit()\n",
    "    return all_data\n",
    "\n",
    "base_url = \"https://www.payscale.com/research/US/Job/Information-Technology/\""
   ]
  },
  {
   "cell_type": "code",
   "execution_count": 32,
   "id": "716e99cf-5ba6-4c9f-ab3d-75061aadceb4",
   "metadata": {},
   "outputs": [
    {
     "name": "stdout",
     "output_type": "stream",
     "text": [
      "Page A en cours d'extraction\n"
     ]
    },
    {
     "ename": "TimeoutException",
     "evalue": "Message: \nStacktrace:\n#0 0x55a49c687613 <unknown>\n#1 0x55a49c3b3537 <unknown>\n#2 0x55a49c3f1f53 <unknown>\n#3 0x55a49c3f2041 <unknown>\n#4 0x55a49c42d2a4 <unknown>\n#5 0x55a49c412a5d <unknown>\n#6 0x55a49c42ad09 <unknown>\n#7 0x55a49c412803 <unknown>\n#8 0x55a49c3e668b <unknown>\n#9 0x55a49c3e742e <unknown>\n#10 0x55a49c648c28 <unknown>\n#11 0x55a49c64caf7 <unknown>\n#12 0x55a49c65701c <unknown>\n#13 0x55a49c64d723 <unknown>\n#14 0x55a49c61c457 <unknown>\n#15 0x55a49c671628 <unknown>\n#16 0x55a49c6717b7 <unknown>\n#17 0x55a49c680483 <unknown>\n#18 0x7f7e81fccb43 <unknown>\n",
     "output_type": "error",
     "traceback": [
      "\u001b[0;31m---------------------------------------------------------------------------\u001b[0m",
      "\u001b[0;31mTimeoutException\u001b[0m                          Traceback (most recent call last)",
      "Cell \u001b[0;32mIn[32], line 1\u001b[0m\n\u001b[0;32m----> 1\u001b[0m data \u001b[38;5;241m=\u001b[39m \u001b[43mscrape_payscale_jobs\u001b[49m\u001b[43m(\u001b[49m\u001b[43mbase_url\u001b[49m\u001b[43m)\u001b[49m\n",
      "Cell \u001b[0;32mIn[31], line 64\u001b[0m, in \u001b[0;36mscrape_payscale_jobs\u001b[0;34m(base_url, start_letter, end_letter)\u001b[0m\n\u001b[1;32m     57\u001b[0m driver\u001b[38;5;241m.\u001b[39mexecute_script(\u001b[38;5;124m\"\"\"\u001b[39m\n\u001b[1;32m     58\u001b[0m \u001b[38;5;124mif (document.querySelector(\u001b[39m\u001b[38;5;124m'\u001b[39m\u001b[38;5;124m.onetrust-pc-dark-filter\u001b[39m\u001b[38;5;124m'\u001b[39m\u001b[38;5;124m)) \u001b[39m\u001b[38;5;124m{\u001b[39m\n\u001b[1;32m     59\u001b[0m \u001b[38;5;124m    document.querySelector(\u001b[39m\u001b[38;5;124m'\u001b[39m\u001b[38;5;124m.onetrust-pc-dark-filter\u001b[39m\u001b[38;5;124m'\u001b[39m\u001b[38;5;124m).style.display = \u001b[39m\u001b[38;5;124m'\u001b[39m\u001b[38;5;124mnone\u001b[39m\u001b[38;5;124m'\u001b[39m\u001b[38;5;124m;\u001b[39m\n\u001b[1;32m     60\u001b[0m \u001b[38;5;124m}\u001b[39m\n\u001b[1;32m     61\u001b[0m \u001b[38;5;124m\u001b[39m\u001b[38;5;124m\"\"\"\u001b[39m)\n\u001b[1;32m     63\u001b[0m \u001b[38;5;66;03m# Attendez que le bouton \"Read more\" soit cliquable\u001b[39;00m\n\u001b[0;32m---> 64\u001b[0m read_more_button_2 \u001b[38;5;241m=\u001b[39m \u001b[43mWebDriverWait\u001b[49m\u001b[43m(\u001b[49m\u001b[43mdriver\u001b[49m\u001b[43m,\u001b[49m\u001b[43m \u001b[49m\u001b[38;5;241;43m10\u001b[39;49m\u001b[43m)\u001b[49m\u001b[38;5;241;43m.\u001b[39;49m\u001b[43muntil\u001b[49m\u001b[43m(\u001b[49m\n\u001b[1;32m     65\u001b[0m \u001b[43m    \u001b[49m\u001b[43mEC\u001b[49m\u001b[38;5;241;43m.\u001b[39;49m\u001b[43melement_to_be_clickable\u001b[49m\u001b[43m(\u001b[49m\u001b[43m(\u001b[49m\u001b[43mBy\u001b[49m\u001b[38;5;241;43m.\u001b[39;49m\u001b[43mXPATH\u001b[49m\u001b[43m,\u001b[49m\u001b[43m \u001b[49m\u001b[38;5;124;43m'\u001b[39;49m\u001b[38;5;124;43m(//span[@class=\u001b[39;49m\u001b[38;5;124;43m\"\u001b[39;49m\u001b[38;5;124;43mexpandable__more\u001b[39;49m\u001b[38;5;124;43m\"\u001b[39;49m\u001b[38;5;124;43m])[2]\u001b[39;49m\u001b[38;5;124;43m'\u001b[39;49m\u001b[43m)\u001b[49m\u001b[43m)\u001b[49m\n\u001b[1;32m     66\u001b[0m \u001b[43m\u001b[49m\u001b[43m)\u001b[49m\n\u001b[1;32m     68\u001b[0m \u001b[38;5;66;03m# Cliquer sur le bouton \"Read more\" en utilisant JavaScript\u001b[39;00m\n\u001b[1;32m     69\u001b[0m driver\u001b[38;5;241m.\u001b[39mexecute_script(\u001b[38;5;124m\"\u001b[39m\u001b[38;5;124marguments[0].click();\u001b[39m\u001b[38;5;124m\"\u001b[39m, read_more_button_2)\n",
      "File \u001b[0;32m~/.pyenv/versions/3.8.12/envs/scraping/lib/python3.8/site-packages/selenium/webdriver/support/wait.py:95\u001b[0m, in \u001b[0;36mWebDriverWait.until\u001b[0;34m(self, method, message)\u001b[0m\n\u001b[1;32m     93\u001b[0m     \u001b[38;5;28;01mif\u001b[39;00m time\u001b[38;5;241m.\u001b[39mmonotonic() \u001b[38;5;241m>\u001b[39m end_time:\n\u001b[1;32m     94\u001b[0m         \u001b[38;5;28;01mbreak\u001b[39;00m\n\u001b[0;32m---> 95\u001b[0m \u001b[38;5;28;01mraise\u001b[39;00m TimeoutException(message, screen, stacktrace)\n",
      "\u001b[0;31mTimeoutException\u001b[0m: Message: \nStacktrace:\n#0 0x55a49c687613 <unknown>\n#1 0x55a49c3b3537 <unknown>\n#2 0x55a49c3f1f53 <unknown>\n#3 0x55a49c3f2041 <unknown>\n#4 0x55a49c42d2a4 <unknown>\n#5 0x55a49c412a5d <unknown>\n#6 0x55a49c42ad09 <unknown>\n#7 0x55a49c412803 <unknown>\n#8 0x55a49c3e668b <unknown>\n#9 0x55a49c3e742e <unknown>\n#10 0x55a49c648c28 <unknown>\n#11 0x55a49c64caf7 <unknown>\n#12 0x55a49c65701c <unknown>\n#13 0x55a49c64d723 <unknown>\n#14 0x55a49c61c457 <unknown>\n#15 0x55a49c671628 <unknown>\n#16 0x55a49c6717b7 <unknown>\n#17 0x55a49c680483 <unknown>\n#18 0x7f7e81fccb43 <unknown>\n"
     ]
    }
   ],
   "source": [
    "data = scrape_payscale_jobs(base_url)"
   ]
  },
  {
   "cell_type": "code",
   "execution_count": null,
   "id": "6c67b012-9d7c-4fb0-87ad-cda1069dfdd1",
   "metadata": {},
   "outputs": [],
   "source": [
    "job_desc"
   ]
  },
  {
   "cell_type": "code",
   "execution_count": null,
   "id": "03665400-7e8a-4de3-a8db-9ff168618653",
   "metadata": {},
   "outputs": [],
   "source": []
  }
 ],
 "metadata": {
  "kernelspec": {
   "display_name": "Python 3 (ipykernel)",
   "language": "python",
   "name": "python3"
  },
  "language_info": {
   "codemirror_mode": {
    "name": "ipython",
    "version": 3
   },
   "file_extension": ".py",
   "mimetype": "text/x-python",
   "name": "python",
   "nbconvert_exporter": "python",
   "pygments_lexer": "ipython3",
   "version": "3.8.12"
  }
 },
 "nbformat": 4,
 "nbformat_minor": 5
}
