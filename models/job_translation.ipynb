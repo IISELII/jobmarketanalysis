{
 "cells": [
  {
   "cell_type": "code",
   "execution_count": 1,
   "id": "c3beda7c-ea6f-473e-9c9f-e58126d110b7",
   "metadata": {},
   "outputs": [],
   "source": [
    "# import des libairies\n",
    "from transformers import *\n",
    "import torch\n",
    "import pandas as pd \n",
    "import numpy as np"
   ]
  },
  {
   "cell_type": "code",
   "execution_count": 2,
   "id": "85c0280d-94cd-4713-9945-2c84bace7c7e",
   "metadata": {},
   "outputs": [
    {
     "data": {
      "text/html": [
       "<div>\n",
       "<style scoped>\n",
       "    .dataframe tbody tr th:only-of-type {\n",
       "        vertical-align: middle;\n",
       "    }\n",
       "\n",
       "    .dataframe tbody tr th {\n",
       "        vertical-align: top;\n",
       "    }\n",
       "\n",
       "    .dataframe thead th {\n",
       "        text-align: right;\n",
       "    }\n",
       "</style>\n",
       "<table border=\"1\" class=\"dataframe\">\n",
       "  <thead>\n",
       "    <tr style=\"text-align: right;\">\n",
       "      <th></th>\n",
       "      <th>job</th>\n",
       "      <th>description</th>\n",
       "    </tr>\n",
       "  </thead>\n",
       "  <tbody>\n",
       "    <tr>\n",
       "      <th>0</th>\n",
       "      <td>ABAP Developer</td>\n",
       "      <td>ABAP developers are in charge of designing and...</td>\n",
       "    </tr>\n",
       "    <tr>\n",
       "      <th>1</th>\n",
       "      <td>ASIC Design Engineer</td>\n",
       "      <td>An ASIC design engineer typically works within...</td>\n",
       "    </tr>\n",
       "    <tr>\n",
       "      <th>2</th>\n",
       "      <td>ASIC Engineer</td>\n",
       "      <td>ASIC (application-specific integrated circuit)...</td>\n",
       "    </tr>\n",
       "    <tr>\n",
       "      <th>3</th>\n",
       "      <td>ASP.NET Developer</td>\n",
       "      <td>An ASP.NET developer must have experience and ...</td>\n",
       "    </tr>\n",
       "    <tr>\n",
       "      <th>4</th>\n",
       "      <td>Actuarial Associate</td>\n",
       "      <td>Actuarial associates assist senior actuaries i...</td>\n",
       "    </tr>\n",
       "  </tbody>\n",
       "</table>\n",
       "</div>"
      ],
      "text/plain": [
       "                    job                                        description\n",
       "0        ABAP Developer  ABAP developers are in charge of designing and...\n",
       "1  ASIC Design Engineer  An ASIC design engineer typically works within...\n",
       "2         ASIC Engineer  ASIC (application-specific integrated circuit)...\n",
       "3     ASP.NET Developer  An ASP.NET developer must have experience and ...\n",
       "4   Actuarial Associate  Actuarial associates assist senior actuaries i..."
      ]
     },
     "metadata": {},
     "output_type": "display_data"
    },
    {
     "name": "stdout",
     "output_type": "stream",
     "text": [
      "(219, 2)\n"
     ]
    }
   ],
   "source": [
    "# import des données \n",
    "df = pd.read_csv(\"../data/silver/job_description.csv\")\n",
    "display(df.head())\n",
    "print(df.shape)"
   ]
  },
  {
   "cell_type": "code",
   "execution_count": 3,
   "id": "4f9f1cce-3a1d-44ba-80bd-b9f06c62e9a5",
   "metadata": {},
   "outputs": [
    {
     "data": {
      "text/plain": [
       "job             0\n",
       "description    51\n",
       "dtype: int64"
      ]
     },
     "execution_count": 3,
     "metadata": {},
     "output_type": "execute_result"
    }
   ],
   "source": [
    "df.isnull().sum()"
   ]
  },
  {
   "cell_type": "markdown",
   "id": "c773ce13-6799-4636-9008-e47cec112672",
   "metadata": {},
   "source": [
    "### preprocessing"
   ]
  },
  {
   "cell_type": "code",
   "execution_count": 4,
   "id": "bcf2d39b-2140-4677-8f9c-b40ea420e013",
   "metadata": {},
   "outputs": [
    {
     "data": {
      "text/plain": [
       "(168, 2)"
      ]
     },
     "execution_count": 4,
     "metadata": {},
     "output_type": "execute_result"
    }
   ],
   "source": [
    "df = df[df['description'].notna()]\n",
    "df.shape"
   ]
  },
  {
   "cell_type": "code",
   "execution_count": 5,
   "id": "7aebd82c-289a-4d0d-b391-66c8716a1fae",
   "metadata": {},
   "outputs": [],
   "source": [
    "# Remplacer \"Read less\" à la fin de chaque description par une chaîne vide\n",
    "df['description'] = df['description'].str.replace(\"Read less$\", \"\", regex=True)\n",
    "# Pour s'assurer que les espaces blancs à la fin sont également enlevés (s'il y en a)\n",
    "df['description'] = df['description'].str.strip()"
   ]
  },
  {
   "cell_type": "code",
   "execution_count": 6,
   "id": "5e7a019c-5f41-43a2-9eaa-74b4eec249fc",
   "metadata": {},
   "outputs": [
    {
     "data": {
      "text/plain": [
       "[\"ABAP developers are in charge of designing and developing complex enterprise-level applications for their organization. They are responsible for creating complex algorithms and data structures, and one of their main duties is performance monitoring and subsequently revising programs. ABAP developers assist in the translation of logical data design to physical database design, develop effective strategies for recovering applications in case of data loss, suggest changes for scalability issues, and promote quality control according to service level contracts. They also assist in project management activities and in the assessment and proper resolution of complex software bugs. Additionally, they implement system applications, follow up as needed in case of glitches after deploying to end users, conduct technical evaluation of code requirements, and propose detailed changes. ABAP developers also lead the review of business development case, as well as the revision of tools, standards, and methodologies. They create reports using a personal computer, support management in hiring duties, and provide regular support to existing application systems and software packages. ABAP developers must follow strict privacy measures and system security practices.  A bachelor's degree in computer science, software development, or a related field is generally required for this position. Experience in a similar developer capacity may be preferred. ABAP developers must have expert-level knowledge in several programming languages, as well as strong analytical, and problem-solving skills to propose innovative ideas for solving technical challenges. They should work well independently and in a team environment with other developers with similar expertise. They should have working knowledge of system life-cycle methodologies, in addition to industry standard requirements. They must also have expert abilities with a variety of software development tools.\",\n",
       " \"An ASIC design engineer typically works within a team that is responsible for all aspects of design activities, including architecture definition, design specification, design flow development, logic design, and verification.  ASIC is defined as “application-specific integrated circuit” and is an integrated circuit that is customized for a specific use, rather than for general use.  The ASIC design engineer is typically responsible for designing and delivering large, complex ASIC designs, and they deliver efficient design methodology on industry-standard design tools.  To obtain this position, a person typically must at least possess a bachelor's degree in electrical engineering, computer engineering, or a related field; however, a master's degree is often preferred.  An ASIC design engineer also should have several years of experience in ASIC design.  It is often preferred that the individual has a diverse background in verification methodologies, and it is typically required that they have strong programming skills, as well as Verilog, SystemVerilog, object-oriented programming, C++, and logic simulation familiarity.   This position also requires a strong understanding of computer architecture, strong communication skills, and the ability to operate well in diverse environments, as this position is important in a variety of fields. The ASIC design engineer must be a team player and function effectively in a group setting; however, they should also be able to work independently with minimal supervision. These engineers should also be able to effectively adapt their skills to the given environment.\",\n",
       " \"ASIC (application-specific integrated circuit) engineers work to design  microchips for specific applications, such as transmission protocols, hand-held computers, and smartphones. Their work is different than that of engineers who work with general integrated circuits, such as microprocessors and random-access memory chips in personal computers. They generally work for companies in electronics, defense, and aerospace, as well as government institutions, and work with architecture, design, implementation, and system integration of a wide variety of integrated circuits. A bachelor's degree in electrical engineering or a related field is generally required for this position, and some employers may prefer candidates who have master's degrees and/or prior research experience. ASIC engineers who work for technology companies are often required to pass security clearance due to Export Control restrictions related to high-technology products. Many employers also require candidates to be U.S. Citizens or Lawful Permanent Resident of the United States. ASIC engineers may also be responsible for various projects and project management (planning, schedule, budget, cost and scope control, and risk management). They may interact with outside clients in addition to internal clients from other departments of their companies. ASIC engineers work closely with employees of departments such as electrical design, mechanical design, and others which work on the same projects. They must work well in team-oriented environments and maintain confidentiality, and may be required to travel on occasion. Excellent interpersonal skills and oral and written communications skills are highly beneficial.\",\n",
       " \"An ASP.NET developer must have experience and proficiency in ASP.NET. Knowledge of other web frameworks, patterns, and programming languages is beneficial to the ideal candidate. Examples include CSS, HTML, Javascript, and C#. Most ASP.NET developers have at least a bachelor's degree in computer science or another related field. In addition to the standard qualifications and knowledge, this job requires strong organization skills, meticulous attention to detail, and good communication skills. An ASP.NET developer typically works as part of a team, but individual work is also necessary. This job will require a wide array of tasks. The developer will primarily work on developing and supporting applications and programs. He or she will also serve as an analyst for other applications and programs by verifying completeness and functionality. This involves inputting sample data and evaluating the output of results, as well as debugging any errors that might come up. Work on already existing programs may also be required. Examples of such work include adding new features and functions to existing programs, optimizing them, or modifying them if a new problem comes up. The developer must maintain regular contact with other employees, which includes reporting progress and problems at team meetings, training end users in the use of programs, and assisting users who have issues with the programs.\",\n",
       " \"Actuarial associates assist senior actuaries in assessing the financial impact of speculation, uncertainty, and risk related to unexpected, uncontrollable events such as death, natural disasters, and other liabilities to a corporation or firm. Actuarial associates typically work full time in an office environment, but they may also be part of a consulting firm that works directly with multiple companies. Their duties include the aggregation of existing databases to determine the need for protection against various liabilities, the collection of new data to determine liability risk, and interaction with other departments to research the potential for liabilities.  Actuarial associates are also responsible for presenting and documenting information found through research, using software to record data and organize it into accessible databases, and performing other tasks that may be required in assisting their senior actuary. Skills that are useful in an actuarial associate position are the ability to present to a group and effectively communicate information, a basic knowledge of computer software and digital databases, the ability to compare and analyze data, the attention to detail necessary to properly evaluate liabilities, and the ability to work closely with a team of other associates and senior actuaries.  Requirements for these positions often include a bachelor's degree in finance, mathematics, statistics, or a related field. Membership as a Fellow of the Society of Actuaries (FSA) or Associate of the Society of Actuaries (ASA) certification, as well as three to five years of actuarial experience, are required as well. Actuarial associates should have the ability to use Prophet and/or other customer relationship management (CRM) software and experience with SQL database standards.\",\n",
       " \"Actuarial consultants are responsible for applying quantitative and analytical methods to projects for their organizations, as well as providing expert knowledge in actuarial functions to benefit business and services. They may also work in product/service development, expenses, or sales. Actuarial consultants use a personal computer to run calculations, write specialized reports, and input data into databases and must be able to communicate well and organize financial resources into specific funds to cover company expenses. They must follow strict privacy regulations to respect clients' privacy, and also analyze data and calculate risks based on pricing factors.  These consultants must be proficient with spreadsheet and word processing software and familiar with database applications and a variety of risk programs. They may manage risk in a variety of scenarios and help use data to avoid crises in business environments and mitigate risks using research data. They use quantities from company performance, financial information, debts, liabilities, assets, and clients to form qualified opinions on potential improvements for the company, and should be organized and pay close attention to detail. They may make predictions using hard data for possible market-changes and patterns in consumption, and they should be able to multitask and prioritize projects as necessary. They must also have excellent knowledge of corporate acquisitions, risks in insurance matters, protecting management, and company welfare. A bachelor's degree in an actuary science is generally required for this position, and industry certifications are also helpful.\",\n",
       " \"Actuaries play a key role in insurance companies by serving as analysts who help determine whether the company should issue an insurance policy and what the premium for that policy should be. They use a great deal of statistical analysis in their work, as they examine huge amounts of data related to costing and trends. Insurance companies must always maintain their financial health, and the role of the actuary is to manage risk in the delicate balance between issuing policies (and the costs paid for them) and the exposure to financial risk for the company. Often, actuaries help add statistically-significant data to data models for insurance companies and then analyze related effects on insurance policies. This typically includes examining incident data (such as car accidents by location or age ranges in auto insurance) and then adjusting rates and terms as necessary; they may also occasionally pull disparate data from a variety of sources for these adjustments. For example, those who work with homeowner's insurance may regularly assess not only crime data in a neighborhood, but also patterns of destructive weather where previous claims have been paid. This ongoing re-calculation of risk exposure for the insurance company is an actuary's primary responsibility. Candidates for this position should have a college degree in actuarial science or a field related to statistical analysis. They must also be highly experienced with computers and able to quickly manage large data streams to discern trends and useful information. Most actuaries work for insurance companies, although some financial service companies may have actuarial departments which manage investment risks. Actuaries generally work in office environments during traditional business hours.\",\n",
       " 'The job of the Lotus Notes administrator is to create an ongoing email marketing strategy and implementation for the company consistent with the brand and other marketing endeavors. Additionally, the Lotus Notes administrator must monitor, maintain, and streamline internal company communications. This involves listening, teaching, answering questions of colleagues, updating technology and implementing best practices for internal communication using Lotus Notes and other software. The Lotus Notes administrator performs general administrator tasks such as directing and coordinating projects from start to finish, as well as implementing design that impels consumers and/or colleagues to actively respond to \"call to action\" scenarios. They must be up to date on current consumer preference trends and privacy laws, as well as effective with social media tools, and know how to relate to various audiences.   The position requires exceptional knowledge and skills in the software program Lotus Notes, as well as being able to learn other new software easily. Lotus Notes administrators must be proficient in navigating different operating systems, including Windows, OS, iOS and Android. They must be able to download apps and plug-ins, install programs, and understand hosting, domains and servers. They also need to be up to date with relevant technology and able to understand and troubleshoot general networking. He or she must work well with supervision and be a self-starter, have good communication skills, be able to lead and act in a supervisory role, and be a team player.',\n",
       " \"Analytics managers are responsible for coordinating analytics tasks for their organization, including creating effective strategies to collect data, analyze information, conduct research, and implement analytics solutions for their products or services. They must also be able to measure performance, financial risks, and customer experience and motivate a team of specialists to complete objectives in a timely manner. These managers must share information with other managers to fulfill projects before deadlines and have strong interpersonal skills to communicate key performance indicators. They often attend company meetings to suggest efficient ways to complete goals, and are also responsible for managing controls and processes to account for quality. They must strive to find business opportunities and analyze purchase trends and customer data in a variety of ways to improve satisfaction. Analytics managers work in an office environment with a personal computer to run analyses on data and create complex reports, and they may share their findings with a vice president within the company. They are also tasked with delivering progress for operations, reviewing production performance, and managing schedules for future development, as well as facilitating technological approaches, implementing new hardware, and improving clients' experiences. They may handle cost and benefit analyses, efficiency utilization, and aligning goals for all business fronts, and after collecting enough data from concept, release, and research they must estimate performance, costs, and other forecasts. A bachelor's degree in analytics, data management, or a related field is generally required for this position, and prior experience in analytics is highly beneficial. Industry certifications are also helpful.\",\n",
       " \"Android software developers are in charge of creating effective mobile applications for their organization on the Android platform. They create software designed to meet company objectives and provide excellent customer satisfaction. Android software developers frequently collaborate with creative staff to integrate graphics and functionality into the applications. They evaluate frameworks to decide which will produce the best results using less resources. As part of their main responsibilities, they optimize application memory footprint and consumption to increase performance. They also create highly scalable software systems for increased efficiency.  One of these software developers' main duties is to troubleshoot and debug web applications. They integrate different technologies to create a more robust end product; this means they must have vast experience with versioning and repository management. They create documentation for other developers, and share information as needed. Android software developers review code requirements and goals throughout the developing cycle to avoid issues during shipping.  Android software developers typically work in an office setting during regular business hours. Their main tools consist of a personal computer with different software packages, as well as mobile environments to test code and find technical issues. A proficient knowledge of the Java computer language is required, as well as knowledge of other existing programming languages and touch-input methods. A bachelor's degree in software development is needed for this position. Proven experience in mobile programming is preferred. They should possess superior interpersonal skills to communicate with other professionals and team members. They must be highly analytical, have strong problem-solving aptitudes, work well under pressure, and be results-oriented.\",\n",
       " 'Application architects provide expertise, direction, and assistance in application architectural consulting to technical analysts, application engineers, senior database analysts, and other systems architects. A bachelor’s degree in computer science, business administration, or a related field and at least eight years of relevant experience are generally required for this position. These architects are tasked with building quality applications by creating well-designed architectures, writing clean code, and implementing ongoing integration and unit test code coverage. Applicants may also need years of experience in Java, Spring, JUnit, Log4j, Gradle, and application development itself. Strong verbal and written communication skills are important in this position to work well with team members of various degrees of technical depth and knowledge, and some may also be tasked with mentoring others. Applicants must also be experienced, knowledgeable, and able to work independently as well as on teams.',\n",
       " \"Application developers help companies keep up with the latest technologies and developments on the web. As online technology becomes increasingly important, all types of businesses are seeking application developers--from banks to universities, news channels to hospitals. These applications (or apps) can be used on smartphones, computers, tablets and more. As such, application developers must be able to create, develop, manage and maintain new programs and software. These tasks require an excellent knowledge of programming, HTML, all sorts of developer software, in many cases Linus, and experience with relational databases. It is expected in most positions that application developers must be able to work quickly and meet deadlines. Working as a application developer will require collaboration with others in the web and sometimes IT department, so good people and communication skills are necessary as well. Application developers may also be responsible for managing a team, or being part of a team, so it is expected that one is eager and able to collaborate with others. Application developers should have at least an associate's or bachelor's degree in a design or an IT-related field. Some companies require a good degree of related work experience whereas some application developers can begin in an entry-level position working with teams of other developers.\",\n",
       " \"Application support analysts assist users of computer and mobile applications. They must be able to think creatively in order to implement improvements, and they may also be involved in installing new software and making updates. Software must be tested prior to being implemented and then re-tested periodically.  Problems may be detected from areas where users have consistently reported problems, or when users are unable to complete certain tasks. These analysts may receive inquiries from clients through chat, email, or phone, so customer service skills are beneficial in this position. Application support analysts may also create frequently-asked-questions (FAQ) lists and troubleshooting guides to minimize the number of inquiries made. Problems and bugs that are reported should be researched, followed by resolutions, and problems should then continue to be monitored. These support analysts perform many tasks independently, but it's also important that they work well with others in technical positions to successfully obtain conclusions. A bachelor's degree in computer science or a related field may be required for this position, and some employers require experience, which can be obtained from prior employment or internships, while others provide on-the-job training to qualified candidates. Application support analysts must also stay up-to-date with all changes in the technological field to keep their skills current.\",\n",
       " \"An software applications analyst designs, develops, and tests software programs for computer-based systems. The programs built by application analysts range from server applications to applications used by consumers (e.g., business productivity software solutions). Products that have not been released have different requirements than released products, since released products require regular maintenance, testing, and troubleshooting; if a client spots a bug, these analysts must work to immediately fix it. An analyst must be able to work on a team successfully, since many programs are highly complex and require many hours of development and testing. The job is primarily completed in an office setting, and there is little to no physical or manual labor required.   Application analysts generally have at least a bachelor’s degree in a relevant field such as computer science, mathematics, or engineering. More senior analysts may also have graduate degrees in computer science, mathematics, or business. The application analyst's hours may vary depending on the company and product life cycle. Most technology companies have established working hours (e.g., 9 a.m. to 5 p.m.). Some companies may require analysts to work longer or different hours; however, they may allow analysts to come in later than the typical beginning of the business day.\",\n",
       " 'Applications development directors for IT (information technology)/information systems are high-level managers that design and oversee IT projects that the organization will use to improve operations; they may also develop these applications for outside sales. The development director coordinates all team leads on the development project, as well as sets measurable goals and deadlines for these teams and stays in contact with team leads to ensure the project proceeds on schedule. These projects may be as diverse as developing a new intranet for company use and developing new reporting and assessment tools to be shared across departments and teams. The director is often responsible for continuing to improve applications that help maintain and improve the security of sensitive organizational emails.  Much of this job may include striking a balance among various teams in the organizations to ensure IT projects move forward in an efficient manner. The development director may also work with managers in quality assurance testing to ensure that new applications are working as intended, while also taking feedback to add features or functionality requested by these quality teams. To work as an applications development director for IT/information systems, a person typically must possess at least a bachelor’s degree in computer science or a related field; however, many companies prefer postbaccalaureate education as well. Experience in management for IT applications development and programming is generally required as well. The development director must have excellent communication and organizational skills.',\n",
       " \"An applications development manager supervises applications developers who help create software. Given the number of industries employing software, applications development managers can be found in fields as diverse as healthcare, video game development, government, and military. An applications development manager can expect manager-level peers, entry-level subordinates, and director-level supervisors. Applications development managers may have customers and clients who are internal to the institutions that employ them, or they may have external customers and clients. The schedule of an applications development manager varies. Being both technical and business-minded in nature, an applications development manager must allocate a certain portion out of a weekly schedule for meetings. These meetings serve to help applications developers provide status updates to the manager, resolve issues, and keep all team members synchronized with the objectives created by the applications development manager. These managers typically must have a bachelor's degree in computer science, information technology, or another similar field of study. In addition to having technical skills, an applications development manager is expected to be effective at managing people; often, an advanced degree in business administration is strongly preferred. They must also have experience as both a member of technical staff and in technical management roles; on average, between five and 10 years of previous relevant experience is usually considered desirable.\",\n",
       " \"Application development managers for computer software are responsible for leading the development of computer software and managing a team of software development engineers. They work with the staff to motivate them and provide overall project direction, along with technical expertise when required.  Additionally, application development managers are also part of the hiring process, and they help train new hires as well.  The typical day for application development managers might include several project update meetings with development team members, providing updates for leaders within their organization, helping resolve technical and logistical problems, and managing direct reports. They work in an office environment, usually with a computer, throughout most of the day. The typical educational requirement for this position includes at least a bachelor’s degree in computer science or a related discipline; a master's degree may be required or preferred. Several years of software programming and leadership experience is needed as well. Experience in Visual Basic, ASP, C, C++, and/or Matlab may be needed based on the type of software development being conducted. Application development managers for computer software must have the ability to prioritize projects and deadlines on an ongoing basis, as there are often several competing development projects that all need attention. They must also have excellent interpersonal skills, demonstrating the ability to communicate regularly and promptly with the development team. They must be organized and detail-oriented to ensure that all deadlines and requirements are met.\",\n",
       " \"Applications engineers work in many different industries and create, implement and maintain computer applications and software tailored to an organization's or customer's needs. This can be done by either modifying current software or completely designing a new project. Application engineers' work environments are generally in an office setting with much of their time spent in front of a computer testing and writing software. They may also work with teams of other engineers that break apart a large task into smaller ones for easier manageability, and they will usually have a manager that they work under. The industries that employ application engineers range from healthcare and finance, to sales and marketing, so there are many types of career options for application engineers. Banks hire them to create online banking applications for their customers and mechanical industries can hire them to program large machines for production.  Application engineers can be either self-employed or work for a company as part of a developing team. They are typically required to have at least a minimum of a bachelor's degree in a computer information technology area such as computer science, computer engineering or mechanical engineering, but many hiring companies value equivalent working experience in the field. They must have strong verbal, mathematical reasoning and problem solving skills, and there are also optional certifications for new engineers to help establish themselves in the field. They also will need to be well-versed in different programming languages like C, Java, C#, C++, Python, Ruby and JavaScript, and many jobs require their engineers to be familiar with the Linux platform.\",\n",
       " \"Electrical applications engineers are in charge of engineering-related aspects of the application and automation of electrical systems for their organization. They are responsible for creating applications for electrical projects, working with automation tools to develop effective electrical solutions that are scalable, and following strict safety regulations when installing and deploying electrical applications. They actively participate in the electrical design and building of power systems, as well as troubleshoot application scripts and improve efficiency by removing code that is not longer needed. Additionally, these engineers use a personal computer to develop electrical applications using project requirements based on their engineering expertise.  Electrical applications engineers participate in technical meetings to suggest changes to electrical specifications, as well as help with the development of technical documentation and create detailed reports based on their performance and findings. They share technical and applications data with other departments, take part in the electrical applications testing and maintenance, and provide support for troubleshooting activities. Electrical applications engineers coordinate equipment selection, installation, and performance review. They report their progress to the electrical applications supervisor in their department and escalate safety concern as required.  A bachelor's degree in electrical engineering or a related field is required for this position. Previous experience in an electrical engineering role is generally required or preferred, and industry certifications may be beneficial. Electrical applications engineers must be results-driven, have strong analytical skills, pay close attention to detail, and be able to multitask on a variety of projects. They need to be able to work well with other applications engineers in a team environment to reach all company objectives in a timely manner; however, they should also be able to perform effectively on their own with minimal supervision.\",\n",
       " \"Applications engineering managers are in charge of supporting the design and accuracy of engineering applications for their organization. They are responsible for development and for finding solutions to production and engineering issues as they arise, as well as work to overcome obstacles for application standard compliance. They verify application requirements and create complex reports based on their findings. In all tasks, they must follow strict regulations regarding safety policies. Other tasks performed by the applications engineering manager include supervising code development and design tasks, providing technical support to manufacturing and quality control staff, and working with other managers to achieve company objectives in a timely manner. They participate in training sessions and act as a coach for junior members and engineers. Additionally, applications engineering managers use their mechanical design knowledge to provide innovative solution in application development and implementation. They also provide volume schedules while leading a group of engineers, assist with product-planning activities to create more efficient tasks, and suggest changes to the production process.  A bachelor's degree in mechanical engineering, applications engineering, or a related field is necessary for this job. Previous experience in a managerial position is generally required. Industry and leadership certifications may be preferred. Applications engineering managers must have analytical skills that allow them to process large amounts of information and detect engineering patterns. In addition, they should have an advanced understanding of fluid dynamics and possess strong communication skills to interact with other engineers in their department.\"]"
      ]
     },
     "execution_count": 6,
     "metadata": {},
     "output_type": "execute_result"
    }
   ],
   "source": [
    "description_en = df[\"description\"].tolist()\n",
    "texts = description_en[:20]\n",
    "texts"
   ]
  },
  {
   "cell_type": "markdown",
   "id": "138b9490-8369-4abe-a02b-8cc000684ecc",
   "metadata": {},
   "source": [
    "### Model"
   ]
  },
  {
   "cell_type": "code",
   "execution_count": 7,
   "id": "91960a5e-3415-454c-9100-2e3d4ea8f100",
   "metadata": {},
   "outputs": [],
   "source": [
    "# import des packages\n",
    "def get_translation_model_and_tokenizer(src_lang, dst_lang):\n",
    "  \"\"\"\n",
    "  Given the source and destination languages, returns the appropriate model\n",
    "  See the language codes here: https://developers.google.com/admin-sdk/directory/v1/languages\n",
    "  For the 3-character language codes, you can google for the code!\n",
    "  \"\"\"\n",
    "  # construct our model name\n",
    "  model_name = f\"Helsinki-NLP/opus-mt-{src}-{dst}\"\n",
    "  # initialize the tokenizer & model\n",
    "  tokenizer = AutoTokenizer.from_pretrained(model_name)\n",
    "  model = AutoModelForSeq2SeqLM.from_pretrained(model_name)\n",
    "  # return them for use\n",
    "  return model, tokenizer"
   ]
  },
  {
   "cell_type": "code",
   "execution_count": 8,
   "id": "730aae66-6979-440f-9d8c-1840b5056937",
   "metadata": {},
   "outputs": [],
   "source": [
    "# source & destination languages\n",
    "src = \"en\"\n",
    "dst = \"fr\"\n",
    "\n",
    "model, tokenizer = get_translation_model_and_tokenizer(src, dst)"
   ]
  },
  {
   "cell_type": "code",
   "execution_count": 9,
   "id": "93dd7044-f38f-4d4a-a6c2-e729e9f571ad",
   "metadata": {},
   "outputs": [],
   "source": [
    "def translate_texts(texts, model, tokenizer):\n",
    "    \"\"\"\n",
    "    Translates a list of texts using the provided model and tokenizer.\n",
    "    \"\"\"\n",
    "    # Tokenize the list of texts\n",
    "    inputs = tokenizer(texts, return_tensors=\"pt\", padding=True, truncation=True, max_length=512).input_ids\n",
    "\n",
    "    # Generate the translation output using beam search\n",
    "    beam_outputs = model.generate(inputs, num_beams=3, max_length=512)\n",
    "\n",
    "    # Decode each translated output\n",
    "    translations = [tokenizer.decode(output, skip_special_tokens=True) for output in beam_outputs]\n",
    "    \n",
    "    return translations"
   ]
  },
  {
   "cell_type": "code",
   "execution_count": 10,
   "id": "d8980ea4-df7e-41e5-bc22-3c028ac05b73",
   "metadata": {},
   "outputs": [],
   "source": [
    "translated_texts = translate_texts(texts, model, tokenizer)"
   ]
  },
  {
   "cell_type": "code",
   "execution_count": 12,
   "id": "0b173876-3fa8-4ab6-a04b-51fdb1bbfd7e",
   "metadata": {},
   "outputs": [
    {
     "data": {
      "text/plain": [
       "[\"Les concepteurs d'ABAP aident également à la gestion de projets et à l'évaluation et à la résolution appropriée des bogues logiciels complexes. Ils mettent en œuvre des applications système, assurent le suivi nécessaire en cas de problèmes d'embauche après avoir été déployés auprès des utilisateurs finaux, effectuent une évaluation technique des exigences de code et proposent des changements détaillés. Les concepteurs d'ABAP doivent également diriger l'examen de la situation de développement des affaires, ainsi que la révision des outils, des normes et des méthodologies. Ils créent des rapports à l'aide d'un ordinateur personnel, soutiennent la gestion des tâches d'embauche et fournissent un soutien régulier aux systèmes d'application et aux progiciels existants. Les concepteurs d'ABAP doivent suivre des mesures strictes de protection de la vie privée et des pratiques de sécurité du système.\",\n",
       " \"Un ingénieur de conception ASIC fonctionne généralement au sein d'une équipe qui est responsable de tous les aspects des activités de conception, y compris la définition de l'architecture, les spécifications de conception, le développement du flux de conception, la conception logique et la vérification. ASIC est défini comme un circuit intégré spécifique à l'application et est un circuit intégré qui est personnalisé pour une utilisation spécifique, plutôt que pour une utilisation générale. L'ingénieur de conception ASIC est généralement responsable de la conception et de la livraison de grands dessins complexes ASIC, et ils fournissent une méthodologie de conception efficace sur les outils de conception standard de l'industrie. Pour obtenir ce poste, une personne doit au moins posséder un baccalauréat en génie électrique, en génie informatique ou dans un domaine connexe; cependant, un diplôme de maîtrise est souvent préféré. Un ingénieur de conception ASIC devrait également avoir plusieurs années d'expérience dans la conception ASIC. Il est souvent préférable que l'individu ait une connaissance diversifiée des méthodologies de vérification, et il est généralement nécessaire qu'il possède de solides compétences en programmation, ainsi que Verilog, SystemVérilog, une programmation orientée objet, C++, et une connaissance de la simulation logique.\",\n",
       " \"Les ingénieurs de l'ASIC (dispositif intégré spécifique à l'application) travaillent à la conception de micropuces pour des applications spécifiques, telles que les protocoles de transmission, les ordinateurs portatifs et les smartphones. Leur travail est différent de celui des ingénieurs qui travaillent avec des circuits intégrés généraux, tels que les microprocesseurs et les puces de mémoire d'accès aléatoire dans les ordinateurs personnels. Ils travaillent généralement pour des entreprises dans l'électronique, la défense et l'aérospatiale, ainsi que des institutions gouvernementales, et travaillent avec l'architecture, la conception, la mise en œuvre et l'intégration système d'une grande variété de circuits intégrés. Un baccalauréat en génie électrique ou un domaine connexe est généralement requis pour ce poste, et certains employeurs peuvent préférer des candidats qui ont une maîtrise et/ou une expérience de recherche antérieure.\"]"
      ]
     },
     "execution_count": 12,
     "metadata": {},
     "output_type": "execute_result"
    }
   ],
   "source": [
    "translated_texts[:3]"
   ]
  },
  {
   "cell_type": "code",
   "execution_count": null,
   "id": "4b01e4e0-daec-4229-ab0f-0880f624ffe7",
   "metadata": {},
   "outputs": [],
   "source": []
  }
 ],
 "metadata": {
  "kernelspec": {
   "display_name": "Python 3 (ipykernel)",
   "language": "python",
   "name": "python3"
  },
  "language_info": {
   "codemirror_mode": {
    "name": "ipython",
    "version": 3
   },
   "file_extension": ".py",
   "mimetype": "text/x-python",
   "name": "python",
   "nbconvert_exporter": "python",
   "pygments_lexer": "ipython3",
   "version": "3.8.12"
  }
 },
 "nbformat": 4,
 "nbformat_minor": 5
}
