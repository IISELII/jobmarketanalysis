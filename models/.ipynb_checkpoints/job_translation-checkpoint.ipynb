{
 "cells": [
  {
   "cell_type": "code",
   "execution_count": 2,
   "id": "c3beda7c-ea6f-473e-9c9f-e58126d110b7",
   "metadata": {},
   "outputs": [],
   "source": [
    "# import des libairies\n",
    "from transformers import *\n",
    "import torch\n",
    "import pandas as pd \n",
    "import numpy as np"
   ]
  },
  {
   "cell_type": "code",
   "execution_count": 3,
   "id": "85c0280d-94cd-4713-9945-2c84bace7c7e",
   "metadata": {},
   "outputs": [
    {
     "data": {
      "text/html": [
       "<div>\n",
       "<style scoped>\n",
       "    .dataframe tbody tr th:only-of-type {\n",
       "        vertical-align: middle;\n",
       "    }\n",
       "\n",
       "    .dataframe tbody tr th {\n",
       "        vertical-align: top;\n",
       "    }\n",
       "\n",
       "    .dataframe thead th {\n",
       "        text-align: right;\n",
       "    }\n",
       "</style>\n",
       "<table border=\"1\" class=\"dataframe\">\n",
       "  <thead>\n",
       "    <tr style=\"text-align: right;\">\n",
       "      <th></th>\n",
       "      <th>job</th>\n",
       "      <th>description</th>\n",
       "    </tr>\n",
       "  </thead>\n",
       "  <tbody>\n",
       "    <tr>\n",
       "      <th>0</th>\n",
       "      <td>ABAP Developer</td>\n",
       "      <td>ABAP developers are in charge of designing and...</td>\n",
       "    </tr>\n",
       "    <tr>\n",
       "      <th>1</th>\n",
       "      <td>ASIC Design Engineer</td>\n",
       "      <td>An ASIC design engineer typically works within...</td>\n",
       "    </tr>\n",
       "    <tr>\n",
       "      <th>2</th>\n",
       "      <td>ASIC Engineer</td>\n",
       "      <td>ASIC (application-specific integrated circuit)...</td>\n",
       "    </tr>\n",
       "    <tr>\n",
       "      <th>3</th>\n",
       "      <td>ASP.NET Developer</td>\n",
       "      <td>An ASP.NET developer must have experience and ...</td>\n",
       "    </tr>\n",
       "    <tr>\n",
       "      <th>4</th>\n",
       "      <td>Actuarial Associate</td>\n",
       "      <td>Actuarial associates assist senior actuaries i...</td>\n",
       "    </tr>\n",
       "  </tbody>\n",
       "</table>\n",
       "</div>"
      ],
      "text/plain": [
       "                    job                                        description\n",
       "0        ABAP Developer  ABAP developers are in charge of designing and...\n",
       "1  ASIC Design Engineer  An ASIC design engineer typically works within...\n",
       "2         ASIC Engineer  ASIC (application-specific integrated circuit)...\n",
       "3     ASP.NET Developer  An ASP.NET developer must have experience and ...\n",
       "4   Actuarial Associate  Actuarial associates assist senior actuaries i..."
      ]
     },
     "metadata": {},
     "output_type": "display_data"
    },
    {
     "name": "stdout",
     "output_type": "stream",
     "text": [
      "(219, 2)\n"
     ]
    }
   ],
   "source": [
    "# import des données \n",
    "df = pd.read_csv(\"../data/silver/job_description.csv\")\n",
    "display(df.head())\n",
    "print(df.shape)"
   ]
  },
  {
   "cell_type": "code",
   "execution_count": 4,
   "id": "4f9f1cce-3a1d-44ba-80bd-b9f06c62e9a5",
   "metadata": {},
   "outputs": [
    {
     "data": {
      "text/plain": [
       "job             0\n",
       "description    51\n",
       "dtype: int64"
      ]
     },
     "execution_count": 4,
     "metadata": {},
     "output_type": "execute_result"
    }
   ],
   "source": [
    "df.isnull().sum()"
   ]
  },
  {
   "cell_type": "markdown",
   "id": "c773ce13-6799-4636-9008-e47cec112672",
   "metadata": {},
   "source": [
    "### preprocessing"
   ]
  },
  {
   "cell_type": "code",
   "execution_count": 5,
   "id": "bcf2d39b-2140-4677-8f9c-b40ea420e013",
   "metadata": {},
   "outputs": [
    {
     "data": {
      "text/plain": [
       "(168, 2)"
      ]
     },
     "execution_count": 5,
     "metadata": {},
     "output_type": "execute_result"
    }
   ],
   "source": [
    "df = df[df['description'].notna()]\n",
    "df.shape"
   ]
  },
  {
   "cell_type": "code",
   "execution_count": 6,
   "id": "7aebd82c-289a-4d0d-b391-66c8716a1fae",
   "metadata": {},
   "outputs": [],
   "source": [
    "# Remplacer \"Read less\" à la fin de chaque description par une chaîne vide\n",
    "df['description'] = df['description'].str.replace(\"Read less$\", \"\", regex=True)\n",
    "# Pour s'assurer que les espaces blancs à la fin sont également enlevés (s'il y en a)\n",
    "df['description'] = df['description'].str.strip()"
   ]
  },
  {
   "cell_type": "code",
   "execution_count": 7,
   "id": "5e7a019c-5f41-43a2-9eaa-74b4eec249fc",
   "metadata": {},
   "outputs": [
    {
     "data": {
      "text/plain": [
       "\"ABAP developers are in charge of designing and developing complex enterprise-level applications for their organization. They are responsible for creating complex algorithms and data structures, and one of their main duties is performance monitoring and subsequently revising programs. ABAP developers assist in the translation of logical data design to physical database design, develop effective strategies for recovering applications in case of data loss, suggest changes for scalability issues, and promote quality control according to service level contracts. They also assist in project management activities and in the assessment and proper resolution of complex software bugs. Additionally, they implement system applications, follow up as needed in case of glitches after deploying to end users, conduct technical evaluation of code requirements, and propose detailed changes. ABAP developers also lead the review of business development case, as well as the revision of tools, standards, and methodologies. They create reports using a personal computer, support management in hiring duties, and provide regular support to existing application systems and software packages. ABAP developers must follow strict privacy measures and system security practices.  A bachelor's degree in computer science, software development, or a related field is generally required for this position. Experience in a similar developer capacity may be preferred. ABAP developers must have expert-level knowledge in several programming languages, as well as strong analytical, and problem-solving skills to propose innovative ideas for solving technical challenges. They should work well independently and in a team environment with other developers with similar expertise. They should have working knowledge of system life-cycle methodologies, in addition to industry standard requirements. They must also have expert abilities with a variety of software development tools.\""
      ]
     },
     "execution_count": 7,
     "metadata": {},
     "output_type": "execute_result"
    }
   ],
   "source": [
    "description_en = df[\"description\"].tolist()\n",
    "text = description_en[0]\n",
    "text "
   ]
  },
  {
   "cell_type": "markdown",
   "id": "138b9490-8369-4abe-a02b-8cc000684ecc",
   "metadata": {},
   "source": [
    "### Model"
   ]
  },
  {
   "cell_type": "code",
   "execution_count": 8,
   "id": "91960a5e-3415-454c-9100-2e3d4ea8f100",
   "metadata": {},
   "outputs": [],
   "source": [
    "# import des packages\n",
    "def get_translation_model_and_tokenizer(src_lang, dst_lang):\n",
    "  \"\"\"\n",
    "  Given the source and destination languages, returns the appropriate model\n",
    "  See the language codes here: https://developers.google.com/admin-sdk/directory/v1/languages\n",
    "  For the 3-character language codes, you can google for the code!\n",
    "  \"\"\"\n",
    "  # construct our model name\n",
    "  model_name = f\"Helsinki-NLP/opus-mt-{src}-{dst}\"\n",
    "  # initialize the tokenizer & model\n",
    "  tokenizer = AutoTokenizer.from_pretrained(model_name)\n",
    "  model = AutoModelForSeq2SeqLM.from_pretrained(model_name)\n",
    "  # return them for use\n",
    "  return model, tokenizer"
   ]
  },
  {
   "cell_type": "code",
   "execution_count": 9,
   "id": "730aae66-6979-440f-9d8c-1840b5056937",
   "metadata": {},
   "outputs": [
    {
     "data": {
      "application/vnd.jupyter.widget-view+json": {
       "model_id": "ba5ff8cc378d4a2b94a5eaa332b0ef89",
       "version_major": 2,
       "version_minor": 0
      },
      "text/plain": [
       "Downloading:   0%|          | 0.00/287M [00:00<?, ?B/s]"
      ]
     },
     "metadata": {},
     "output_type": "display_data"
    }
   ],
   "source": [
    "# source & destination languages\n",
    "src = \"en\"\n",
    "dst = \"fr\"\n",
    "\n",
    "model, tokenizer = get_translation_model_and_tokenizer(src, dst)"
   ]
  },
  {
   "cell_type": "code",
   "execution_count": 10,
   "id": "93dd7044-f38f-4d4a-a6c2-e729e9f571ad",
   "metadata": {},
   "outputs": [],
   "source": [
    "inputs = tokenizer.encode(text, return_tensors=\"pt\", max_length=512, truncation=True)"
   ]
  },
  {
   "cell_type": "code",
   "execution_count": 11,
   "id": "d8980ea4-df7e-41e5-bc22-3c028ac05b73",
   "metadata": {},
   "outputs": [
    {
     "name": "stdout",
     "output_type": "stream",
     "text": [
      "Les concepteurs d'ABAP aident également à la gestion de projets et à l'évaluation et à la résolution appropriée des bogues logiciels complexes. Ils mettent en œuvre des applications système, assurent le suivi nécessaire en cas de problèmes d'embauche après avoir été déployés auprès des utilisateurs finaux, effectuent une évaluation technique des exigences de code et proposent des changements détaillés. Les concepteurs d'ABAP doivent également diriger l'examen de la situation de développement des affaires, ainsi que la révision des outils, des normes et des méthodologies. Ils créent des rapports à l'aide d'un ordinateur personnel, soutiennent la gestion des tâches d'embauche et fournissent un soutien régulier aux systèmes d'application et aux progiciels existants. Les concepteurs d'ABAP doivent suivre des mesures strictes de protection de la vie privée et des pratiques de sécurité du système.\n"
     ]
    }
   ],
   "source": [
    "# generate the translation output using beam search\n",
    "beam_outputs = model.generate(inputs, num_beams=3)\n",
    "# decode the output and ignore special tokens\n",
    "print(tokenizer.decode(beam_outputs[0], skip_special_tokens=True))"
   ]
  },
  {
   "cell_type": "code",
   "execution_count": null,
   "id": "0b173876-3fa8-4ab6-a04b-51fdb1bbfd7e",
   "metadata": {},
   "outputs": [],
   "source": []
  }
 ],
 "metadata": {
  "kernelspec": {
   "display_name": "Python 3 (ipykernel)",
   "language": "python",
   "name": "python3"
  },
  "language_info": {
   "codemirror_mode": {
    "name": "ipython",
    "version": 3
   },
   "file_extension": ".py",
   "mimetype": "text/x-python",
   "name": "python",
   "nbconvert_exporter": "python",
   "pygments_lexer": "ipython3",
   "version": "3.8.12"
  }
 },
 "nbformat": 4,
 "nbformat_minor": 5
}
