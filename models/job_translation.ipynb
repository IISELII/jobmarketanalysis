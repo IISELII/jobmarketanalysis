{
 "cells": [
  {
   "cell_type": "code",
   "execution_count": 1,
   "id": "c3beda7c-ea6f-473e-9c9f-e58126d110b7",
   "metadata": {},
   "outputs": [],
   "source": [
    "# import des libairies\n",
    "\n"
   ]
  },
  {
   "cell_type": "code",
   "execution_count": 2,
   "id": "91960a5e-3415-454c-9100-2e3d4ea8f100",
   "metadata": {},
   "outputs": [],
   "source": [
    "# import des packages\n",
    "\n"
   ]
  },
  {
   "cell_type": "code",
   "execution_count": null,
   "id": "730aae66-6979-440f-9d8c-1840b5056937",
   "metadata": {},
   "outputs": [],
   "source": []
  }
 ],
 "metadata": {
  "kernelspec": {
   "display_name": "Python 3 (ipykernel)",
   "language": "python",
   "name": "python3"
  },
  "language_info": {
   "codemirror_mode": {
    "name": "ipython",
    "version": 3
   },
   "file_extension": ".py",
   "mimetype": "text/x-python",
   "name": "python",
   "nbconvert_exporter": "python",
   "pygments_lexer": "ipython3",
   "version": "3.8.12"
  }
 },
 "nbformat": 4,
 "nbformat_minor": 5
}
