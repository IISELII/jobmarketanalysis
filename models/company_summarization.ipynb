{
 "cells": [
  {
   "cell_type": "code",
   "execution_count": 5,
   "id": "45c4e386-16e7-42b2-bb3e-d252333b32f8",
   "metadata": {},
   "outputs": [],
   "source": [
    "# import des librairies\n",
    "from transformers import T5ForConditionalGeneration, T5Tokenizer\n",
    "import pandas as pd\n",
    "import numpy as np "
   ]
  },
  {
   "cell_type": "code",
   "execution_count": 3,
   "id": "36a860f0-2324-40ca-81fd-73f4347807ce",
   "metadata": {},
   "outputs": [
    {
     "data": {
      "text/html": [
       "<div>\n",
       "<style scoped>\n",
       "    .dataframe tbody tr th:only-of-type {\n",
       "        vertical-align: middle;\n",
       "    }\n",
       "\n",
       "    .dataframe tbody tr th {\n",
       "        vertical-align: top;\n",
       "    }\n",
       "\n",
       "    .dataframe thead th {\n",
       "        text-align: right;\n",
       "    }\n",
       "</style>\n",
       "<table border=\"1\" class=\"dataframe\">\n",
       "  <thead>\n",
       "    <tr style=\"text-align: right;\">\n",
       "      <th></th>\n",
       "      <th>jobs</th>\n",
       "      <th>description</th>\n",
       "      <th>loc</th>\n",
       "      <th>datePosted</th>\n",
       "      <th>workhours</th>\n",
       "      <th>salary</th>\n",
       "      <th>contract_type</th>\n",
       "      <th>experience</th>\n",
       "      <th>diploma</th>\n",
       "      <th>skills</th>\n",
       "      <th>qualifications</th>\n",
       "      <th>industry</th>\n",
       "      <th>company</th>\n",
       "      <th>size</th>\n",
       "      <th>company_description</th>\n",
       "      <th>tools</th>\n",
       "      <th>ID_dep</th>\n",
       "      <th>ville</th>\n",
       "      <th>date</th>\n",
       "    </tr>\n",
       "  </thead>\n",
       "  <tbody>\n",
       "    <tr>\n",
       "      <th>0</th>\n",
       "      <td>Data Engineer sénior (F/H) CDI (H/F)</td>\n",
       "      <td>En tant que Data Engineer chez Quantmetry, vou...</td>\n",
       "      <td>75 - PARIS 08</td>\n",
       "      <td>Actualisé le 12 juillet 2023</td>\n",
       "      <td>38H Travail en journée</td>\n",
       "      <td>40000.0 - 50000.0</td>\n",
       "      <td>Contrat à durée indéterminée</td>\n",
       "      <td>5 ans</td>\n",
       "      <td>NaN</td>\n",
       "      <td>['Concevoir et gérer un projet', \"Concevoir un...</td>\n",
       "      <td>Cadre</td>\n",
       "      <td>Conseil pour les affaires et autres conseils d...</td>\n",
       "      <td>QUANTMETRY</td>\n",
       "      <td>100 à 199 salariés</td>\n",
       "      <td>Pure player en Data et Intelligence Artificiel...</td>\n",
       "      <td>NaN</td>\n",
       "      <td>75</td>\n",
       "      <td>PARIS 08</td>\n",
       "      <td>2023/07/12</td>\n",
       "    </tr>\n",
       "    <tr>\n",
       "      <th>1</th>\n",
       "      <td>Data Consultant Stratégie Sénior (H/F)</td>\n",
       "      <td>Nous recrutons des personnes avec une appétenc...</td>\n",
       "      <td>75 - PARIS 08</td>\n",
       "      <td>Actualisé le 12 juillet 2023</td>\n",
       "      <td>35H Travail en journée</td>\n",
       "      <td>3100.0 - 5000.0</td>\n",
       "      <td>Contrat à durée indéterminée</td>\n",
       "      <td>5 ans</td>\n",
       "      <td>NaN</td>\n",
       "      <td>[\"Analyser les résultats d'un projet\", \"Déclin...</td>\n",
       "      <td>Cadre</td>\n",
       "      <td>Conseil pour les affaires et autres conseils d...</td>\n",
       "      <td>QUANTMETRY</td>\n",
       "      <td>100 à 199 salariés</td>\n",
       "      <td>Pure player en Data et Intelligence Artificiel...</td>\n",
       "      <td>NaN</td>\n",
       "      <td>75</td>\n",
       "      <td>PARIS 08</td>\n",
       "      <td>2023/07/12</td>\n",
       "    </tr>\n",
       "    <tr>\n",
       "      <th>2</th>\n",
       "      <td>Chef de projets Performance Durable/Energie/Da...</td>\n",
       "      <td>Intégré(e) au sein de la Direction Performance...</td>\n",
       "      <td>92 - ASNIERES SUR SEINE</td>\n",
       "      <td>Actualisé le 13 juillet 2023</td>\n",
       "      <td>35H Travail en journée</td>\n",
       "      <td>NaN</td>\n",
       "      <td>Contrat à durée indéterminée</td>\n",
       "      <td>3 ans</td>\n",
       "      <td>NaN</td>\n",
       "      <td>['Contrôler et faire appliquer le respect de d...</td>\n",
       "      <td>Employé qualifié</td>\n",
       "      <td>Activités des sièges sociaux</td>\n",
       "      <td>NEXITY</td>\n",
       "      <td>250 à 499 salariés</td>\n",
       "      <td>Nexity est aujourd hui leader sur les différen...</td>\n",
       "      <td>tableau</td>\n",
       "      <td>92</td>\n",
       "      <td>ASNIERES SUR SEINE</td>\n",
       "      <td>2023/07/13</td>\n",
       "    </tr>\n",
       "  </tbody>\n",
       "</table>\n",
       "</div>"
      ],
      "text/plain": [
       "                                                jobs  \\\n",
       "0               Data Engineer sénior (F/H) CDI (H/F)   \n",
       "1             Data Consultant Stratégie Sénior (H/F)   \n",
       "2  Chef de projets Performance Durable/Energie/Da...   \n",
       "\n",
       "                                         description                      loc  \\\n",
       "0  En tant que Data Engineer chez Quantmetry, vou...            75 - PARIS 08   \n",
       "1  Nous recrutons des personnes avec une appétenc...            75 - PARIS 08   \n",
       "2  Intégré(e) au sein de la Direction Performance...  92 - ASNIERES SUR SEINE   \n",
       "\n",
       "                     datePosted               workhours             salary  \\\n",
       "0  Actualisé le 12 juillet 2023  38H Travail en journée  40000.0 - 50000.0   \n",
       "1  Actualisé le 12 juillet 2023  35H Travail en journée    3100.0 - 5000.0   \n",
       "2  Actualisé le 13 juillet 2023  35H Travail en journée                NaN   \n",
       "\n",
       "                  contract_type experience diploma  \\\n",
       "0  Contrat à durée indéterminée      5 ans     NaN   \n",
       "1  Contrat à durée indéterminée      5 ans     NaN   \n",
       "2  Contrat à durée indéterminée      3 ans     NaN   \n",
       "\n",
       "                                              skills    qualifications  \\\n",
       "0  ['Concevoir et gérer un projet', \"Concevoir un...             Cadre   \n",
       "1  [\"Analyser les résultats d'un projet\", \"Déclin...             Cadre   \n",
       "2  ['Contrôler et faire appliquer le respect de d...  Employé qualifié   \n",
       "\n",
       "                                            industry     company  \\\n",
       "0  Conseil pour les affaires et autres conseils d...  QUANTMETRY   \n",
       "1  Conseil pour les affaires et autres conseils d...  QUANTMETRY   \n",
       "2                       Activités des sièges sociaux      NEXITY   \n",
       "\n",
       "                 size                                company_description  \\\n",
       "0  100 à 199 salariés  Pure player en Data et Intelligence Artificiel...   \n",
       "1  100 à 199 salariés  Pure player en Data et Intelligence Artificiel...   \n",
       "2  250 à 499 salariés  Nexity est aujourd hui leader sur les différen...   \n",
       "\n",
       "     tools ID_dep               ville        date  \n",
       "0      NaN     75            PARIS 08  2023/07/12  \n",
       "1      NaN     75            PARIS 08  2023/07/12  \n",
       "2  tableau     92  ASNIERES SUR SEINE  2023/07/13  "
      ]
     },
     "execution_count": 3,
     "metadata": {},
     "output_type": "execute_result"
    }
   ],
   "source": [
    "# import des données\n",
    "df = pd.read_csv(\"../data/silver/silver_data.csv\")\n",
    "df.head(3)"
   ]
  },
  {
   "cell_type": "code",
   "execution_count": 4,
   "id": "2a29cdba-fe53-42c7-97e4-402f01c943ed",
   "metadata": {},
   "outputs": [
    {
     "data": {
      "text/plain": [
       "jobs                      0\n",
       "description               0\n",
       "loc                     902\n",
       "datePosted              902\n",
       "workhours              1542\n",
       "salary                 1591\n",
       "contract_type             0\n",
       "experience                0\n",
       "diploma                1827\n",
       "skills                  861\n",
       "qualifications         1072\n",
       "industry               1031\n",
       "company                 965\n",
       "size                    706\n",
       "company_description     947\n",
       "tools                   930\n",
       "ID_dep                    0\n",
       "ville                   228\n",
       "date                      0\n",
       "dtype: int64"
      ]
     },
     "execution_count": 4,
     "metadata": {},
     "output_type": "execute_result"
    }
   ],
   "source": [
    "df.isnull().sum()"
   ]
  },
  {
   "cell_type": "markdown",
   "id": "dfa655b6-ab9a-44b3-b060-360739ca172b",
   "metadata": {},
   "source": [
    "### preprocessing"
   ]
  },
  {
   "cell_type": "code",
   "execution_count": 11,
   "id": "63e93f10-d06e-4f83-95ec-bde1ef3cc23c",
   "metadata": {},
   "outputs": [
    {
     "data": {
      "text/plain": [
       "(954, 19)"
      ]
     },
     "execution_count": 11,
     "metadata": {},
     "output_type": "execute_result"
    }
   ],
   "source": [
    "df = df[df['company_description'].notna()]\n",
    "df.shape"
   ]
  },
  {
   "cell_type": "code",
   "execution_count": 26,
   "id": "24ecc1df-de76-48f0-be4e-2f2b7e842100",
   "metadata": {},
   "outputs": [
    {
     "data": {
      "text/plain": [
       "\"Fondée en 2013 par Mickael, TRIBEKAI (la tribu de la VICTOIRE) est devenu une référence en cadrage stratégique, développement de franchise, d'immobilier et International.C'est pourquoi KAPP RETAIL est né en 2023 pour se mettre au service de TRIBEKAI et pour ne plus jamais dépendre de fausses solutions périmées, chronophages et coûteuses pour nos clients.\\xa0Pour changer le monde et atteindre rapidement un avenir collectif meilleur, nous avons réalisé 1 levée de f...\""
      ]
     },
     "execution_count": 26,
     "metadata": {},
     "output_type": "execute_result"
    }
   ],
   "source": [
    "company_description = df[\"company_description\"].tolist()\n",
    "text = company_description[20]\n",
    "text"
   ]
  },
  {
   "cell_type": "markdown",
   "id": "28081347-865c-4ce2-ab51-b6853c3c15b1",
   "metadata": {},
   "source": [
    "### Models"
   ]
  },
  {
   "cell_type": "code",
   "execution_count": 14,
   "id": "06f46ab6-b4b5-4614-829d-d444c1633ced",
   "metadata": {},
   "outputs": [
    {
     "data": {
      "application/vnd.jupyter.widget-view+json": {
       "model_id": "8aa896b73901469db7c2306578ce7640",
       "version_major": 2,
       "version_minor": 0
      },
      "text/plain": [
       "Downloading (…)lve/main/config.json:   0%|          | 0.00/1.21k [00:00<?, ?B/s]"
      ]
     },
     "metadata": {},
     "output_type": "display_data"
    },
    {
     "data": {
      "application/vnd.jupyter.widget-view+json": {
       "model_id": "6f553bb153d640a4b80f0d6585b11862",
       "version_major": 2,
       "version_minor": 0
      },
      "text/plain": [
       "Downloading model.safetensors:   0%|          | 0.00/892M [00:00<?, ?B/s]"
      ]
     },
     "metadata": {},
     "output_type": "display_data"
    },
    {
     "data": {
      "application/vnd.jupyter.widget-view+json": {
       "model_id": "5e5b8fc5563649dba965684d0b53524c",
       "version_major": 2,
       "version_minor": 0
      },
      "text/plain": [
       "Downloading (…)neration_config.json:   0%|          | 0.00/147 [00:00<?, ?B/s]"
      ]
     },
     "metadata": {},
     "output_type": "display_data"
    },
    {
     "data": {
      "application/vnd.jupyter.widget-view+json": {
       "model_id": "203cf914b1c04d6ba5b275710ef73a84",
       "version_major": 2,
       "version_minor": 0
      },
      "text/plain": [
       "Downloading (…)ve/main/spiece.model:   0%|          | 0.00/792k [00:00<?, ?B/s]"
      ]
     },
     "metadata": {},
     "output_type": "display_data"
    },
    {
     "name": "stderr",
     "output_type": "stream",
     "text": [
      "/home/selmane/.pyenv/versions/3.8.12/envs/transformers_summarization/lib/python3.8/site-packages/transformers/models/t5/tokenization_t5.py:199: FutureWarning: This tokenizer was incorrectly instantiated with a model max length of 512 which will be corrected in Transformers v5.\n",
      "For now, this behavior is kept to avoid breaking backwards compatibility when padding/encoding with `truncation is True`.\n",
      "- Be aware that you SHOULD NOT rely on t5-base automatically truncating your input to 512 when padding/encoding.\n",
      "- If you want to encode/pad to sequences longer than 512 you can either instantiate this tokenizer with `model_max_length` or pass `max_length` when encoding/padding.\n",
      "- To avoid this warning, please instantiate this tokenizer with `model_max_length` set to your preferred value.\n",
      "  warnings.warn(\n",
      "You are using the legacy behaviour of the <class 'transformers.models.t5.tokenization_t5.T5Tokenizer'>. This means that tokens that come after special tokens will not be properly handled. We recommend you to read the related pull request available at https://github.com/huggingface/transformers/pull/24565\n"
     ]
    }
   ],
   "source": [
    "# initialize the model architecture and weights\n",
    "model = T5ForConditionalGeneration.from_pretrained(\"t5-base\")\n",
    "# initialize the model tokenizer\n",
    "tokenizer = T5Tokenizer.from_pretrained(\"t5-base\")"
   ]
  },
  {
   "cell_type": "code",
   "execution_count": 28,
   "id": "cc61af0b-9337-4235-a710-c924957a3eef",
   "metadata": {},
   "outputs": [],
   "source": [
    "# encode the text into tensor of integers using the appropriate tokenizer\n",
    "inputs = tokenizer.encode(\"summarize: \" + text, return_tensors=\"pt\", max_length=256, truncation=True)"
   ]
  },
  {
   "cell_type": "code",
   "execution_count": 29,
   "id": "d3a7603c-e221-4a87-b604-06b060a4f2a0",
   "metadata": {},
   "outputs": [
    {
     "name": "stdout",
     "output_type": "stream",
     "text": [
      "tensor([[    0,     3, 16840, 10059, 12048,   196,    41,   521,     3,  5135,\n",
      "            20,    50,  9766,   254,  5647, 14132,    61,   259,     3, 20830,\n",
      "           245, 12799,     3,    35,   212,    26,  4843, 28840,     6,  6909,\n",
      "            20,  7884,     6,     3,    26,    31, 19194,     3,    15,    17,\n",
      "          1331,     5,   480, 13747,     3, 27514, 22862,   259, 14563,     3,\n",
      "            35,   460,  2773,   171,   142,     3,  4412,   185,   313,    20,\n",
      "             3, 16840, 10059, 12048,   196,     3,     5,     1]])\n",
      "<pad> TRIBEKAI (la tribu de la VICTOIRE) est devenu une référence en cadrage stratégique, développement de franchise, d'immobilier et International. KAPP RETAIL est né en 2023 pour se mettre au service de TRIBEKAI.</s>\n"
     ]
    }
   ],
   "source": [
    "# generate the summarization output\n",
    "outputs = model.generate(\n",
    "    inputs, \n",
    "    max_length=150, \n",
    "    min_length=40, \n",
    "    length_penalty=2.0, \n",
    "    num_beams=4, \n",
    "    early_stopping=True)\n",
    "# just for debugging\n",
    "print(outputs)\n",
    "print(tokenizer.decode(outputs[0]))"
   ]
  },
  {
   "cell_type": "code",
   "execution_count": null,
   "id": "a714c7d1-5147-4ead-8c81-43a5fc42f7c6",
   "metadata": {},
   "outputs": [],
   "source": []
  }
 ],
 "metadata": {
  "kernelspec": {
   "display_name": "Python 3 (ipykernel)",
   "language": "python",
   "name": "python3"
  },
  "language_info": {
   "codemirror_mode": {
    "name": "ipython",
    "version": 3
   },
   "file_extension": ".py",
   "mimetype": "text/x-python",
   "name": "python",
   "nbconvert_exporter": "python",
   "pygments_lexer": "ipython3",
   "version": "3.8.12"
  }
 },
 "nbformat": 4,
 "nbformat_minor": 5
}
